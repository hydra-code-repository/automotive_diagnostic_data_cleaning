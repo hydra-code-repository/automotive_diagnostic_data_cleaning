{
 "cells": [
  {
   "cell_type": "code",
   "execution_count": 1,
   "id": "5948b16c",
   "metadata": {},
   "outputs": [],
   "source": [
    "import pandas as pd\n",
    "import re\n",
    "import missingno as mso"
   ]
  },
  {
   "cell_type": "code",
   "execution_count": 8,
   "id": "316fc83a",
   "metadata": {},
   "outputs": [
    {
     "name": "stderr",
     "output_type": "stream",
     "text": [
      "<>:2: SyntaxWarning: invalid escape sequence '\\L'\n",
      "<>:2: SyntaxWarning: invalid escape sequence '\\L'\n",
      "C:\\Users\\Weverson Barbieri\\AppData\\Local\\Temp\\ipykernel_9296\\2771380963.py:2: SyntaxWarning: invalid escape sequence '\\L'\n",
      "  df = pd.read_csv('C:\\Language_Projects\\Language_Projects\\Python\\Flagship_1\\\\automotive_diagnostic_data_cleaning\\data\\Pre-Screen_Test_Results.csv')\n"
     ]
    }
   ],
   "source": [
    "# Read the csv file\n",
    "df = pd.read_csv('C:\\Language_Projects\\Language_Projects\\Python\\Flagship_1\\\\automotive_diagnostic_data_cleaning\\data\\Pre-Screen_Test_Results.csv')"
   ]
  },
  {
   "cell_type": "code",
   "execution_count": 9,
   "id": "deea0737",
   "metadata": {},
   "outputs": [],
   "source": [
    "# Filter the DataFrame excluding the entry type 'RMA Test Results'\n",
    "df_prescreen_notes = df[df['Entry Type'].isin(['RMA Pre-Screen', 'Pre-Screen Form Completed'])]"
   ]
  },
  {
   "cell_type": "markdown",
   "id": "ed65b707",
   "metadata": {},
   "source": [
    "### **DATA CLEANING METHODOLOGY - DUAL FORM PROCESSING STRATEGY**\n",
    "\n",
    "This section outlines the comprehensive data cleaning approach necessitated by the evolution of diagnostic form structures over time.\n",
    "\n",
    "#### **🎯 CLEANING RATIONALE**\n",
    "\n",
    "The diagnostic data requires separation into distinct processing workflows due to fundamental differences in form field structures between data collection systems:\n",
    "\n",
    "- **Zoho CRM Form**: Maintains consistent field structure over time\n",
    "- **Google Form**: Has undergone multiple field updates and modifications\n",
    "\n",
    "#### **📋 PROCESSING APPROACH**\n",
    "\n",
    "##### **🔧 Zoho Form Data Processing**\n",
    "- **Method**: Regex-based extraction from unstructured Notes field\n",
    "- **Advantage**: Consistent field delimiters enable reliable pattern matching\n",
    "- **Fields Extracted**:\n",
    "  - Original Problems: `r'experienced with customers original unit:\\s*(.*?)(?=DTCs on original unit)'`\n",
    "  - Original DTCs: `r'DTCs on original unit:(.*?)(?=DTCs transcript)'`\n",
    "  - FS1 ECU Problems: `r'Problems experienced with our unit:(.*?)(?=DTCs on our unit:)'`\n",
    "  - FS1 DTCs: `r'DTCs on our unit:(.*?)(?=DTCs transcript)'`\n",
    "  - Problems Related: `r'Are the original and current problems related.*?(Yes|No|Uncertain)'`\n",
    "  - Additional Notes: `r'Additional Notes/Testing Recommendations?\\s*(.*?)(?=Resolution:)'`\n",
    "  - Resolution: `r'Resolution:\\s*(.*?)(?=\\n\\n|$)'`\n",
    "\n",
    "##### **🔧 Google Form Data Processing**\n",
    "- **Challenge**: Field structure inconsistencies prevent reliable regex extraction\n",
    "- **Solution**: Utilize pre-structured secondary dataset\n",
    "- **Method**: Cross-reference and map structured data from auxiliary spreadsheet\n",
    "- **Data Source**: `prescreen_google_form.xlsx` containing pre-separated diagnostic fields\n",
    "\n",
    "#### **📊 EXPECTED OUTCOMES**\n",
    "\n",
    "- Unified dataset with consistently structured diagnostic fields\n",
    "- Elimination of unstructured Notes dependency for Google Form data\n",
    "- Enhanced data quality for downstream analytical processes\n",
    "- Maintained data lineage and traceability\n",
    "\n",
    "This dual-processing approach ensures optimal data extraction while accommodating the evolutionary changes in diagnostic form structures over the operational timeline."
   ]
  },
  {
   "cell_type": "code",
   "execution_count": 10,
   "id": "aac48e6f",
   "metadata": {},
   "outputs": [],
   "source": [
    "# Create a new dataframe with only the prescreen notes done with the Google form\n",
    "df_google_form_filtered_from_main_df = df_prescreen_notes[df_prescreen_notes['Entry Type'] == 'RMA Pre-Screen']"
   ]
  },
  {
   "cell_type": "code",
   "execution_count": 11,
   "id": "5e91e1f7",
   "metadata": {},
   "outputs": [
    {
     "name": "stdout",
     "output_type": "stream",
     "text": [
      "<class 'pandas.core.frame.DataFrame'>\n",
      "Index: 1762 entries, 0 to 8387\n",
      "Data columns (total 12 columns):\n",
      " #   Column        Non-Null Count  Dtype  \n",
      "---  ------        --------------  -----  \n",
      " 0   Created Time  1762 non-null   object \n",
      " 1   H Number      1762 non-null   object \n",
      " 2   Entry Type    1762 non-null   object \n",
      " 3   Technician    1710 non-null   object \n",
      " 4   Source        1762 non-null   object \n",
      " 5   Year          1762 non-null   float64\n",
      " 6   Make          1762 non-null   object \n",
      " 7   Model         1762 non-null   object \n",
      " 8   Engine Size   1713 non-null   object \n",
      " 9   HW #          1529 non-null   object \n",
      " 10  Part #        1655 non-null   object \n",
      " 11  Notes         1716 non-null   object \n",
      "dtypes: float64(1), object(11)\n",
      "memory usage: 179.0+ KB\n"
     ]
    }
   ],
   "source": [
    "# Check the df after filtering\n",
    "df_google_form_filtered_from_main_df.info()"
   ]
  },
  {
   "cell_type": "code",
   "execution_count": 13,
   "id": "80341d31",
   "metadata": {},
   "outputs": [
    {
     "name": "stderr",
     "output_type": "stream",
     "text": [
      "<>:3: SyntaxWarning: invalid escape sequence '\\L'\n",
      "<>:3: SyntaxWarning: invalid escape sequence '\\L'\n",
      "C:\\Users\\Weverson Barbieri\\AppData\\Local\\Temp\\ipykernel_9296\\3851165866.py:3: SyntaxWarning: invalid escape sequence '\\L'\n",
      "  df_google_form_spdsht = pd.read_excel('C:\\Language_Projects\\Language_Projects\\Python\\Flagship_1\\\\automotive_diagnostic_data_cleaning\\data\\prescreen_google_form.xlsx')\n"
     ]
    }
   ],
   "source": [
    "# This spreadsheet has the prescreen notes separated by column.\n",
    "# Instead of extracting the information from the main df 'df_google_form_filtered', the following concatenates the data from this dataframe to the df_google_form\n",
    "df_google_form_spdsht = pd.read_excel('C:\\Language_Projects\\Language_Projects\\Python\\Flagship_1\\\\automotive_diagnostic_data_cleaning\\data\\prescreen_google_form.xlsx')"
   ]
  },
  {
   "cell_type": "code",
   "execution_count": 14,
   "id": "a5a9d918",
   "metadata": {},
   "outputs": [
    {
     "data": {
      "text/plain": [
       "Index(['Timestamp', 'Technician', 'Acct. #', 'Unnamed: 3',\n",
       "       'Is this a replacement?', 'Year', 'Make', 'Model', 'Engine Size', 'VIN',\n",
       "       'Module Type', 'Service Provided', 'Original Problem(s)',\n",
       "       'DTCs on original unit', 'Current Problem(s)', 'DTCs on our unit',\n",
       "       'Problems Related?', 'Diagnosed properly by Customer?',\n",
       "       'Additional Notes', 'Resolution:', 'Unnamed: 20', 'Unnamed: 21',\n",
       "       'Unnamed: 22', 'Unnamed: 23', 'Unnamed: 24', 'Unnamed: 25',\n",
       "       'Unnamed: 26', 'Timestamp for assignment log'],\n",
       "      dtype='object')"
      ]
     },
     "execution_count": 14,
     "metadata": {},
     "output_type": "execute_result"
    }
   ],
   "source": [
    "# Confirming the column names\n",
    "df_google_form_spdsht.columns"
   ]
  },
  {
   "cell_type": "code",
   "execution_count": 15,
   "id": "791866f2",
   "metadata": {},
   "outputs": [],
   "source": [
    "# Drop some unnecessary columns\n",
    "df_google_form_spdsht_dropped_columns = df_google_form_spdsht.drop(columns=['Unnamed: 3', 'Unnamed: 20', 'Unnamed: 21', 'Unnamed: 22', 'Unnamed: 23', 'Unnamed: 24', 'Unnamed: 25', 'Unnamed: 26', 'Timestamp for assignment log'])"
   ]
  },
  {
   "cell_type": "code",
   "execution_count": 16,
   "id": "6cfbb1dc",
   "metadata": {},
   "outputs": [],
   "source": [
    "# Rename the column \"Acct. #\" for \"H Number\" to match the main df\n",
    "df_google_form_spdsht_renamed_column = df_google_form_spdsht_dropped_columns.rename(columns={'Acct. #': 'H Number'})"
   ]
  },
  {
   "cell_type": "code",
   "execution_count": 17,
   "id": "2b7c7412",
   "metadata": {},
   "outputs": [
    {
     "name": "stdout",
     "output_type": "stream",
     "text": [
      "<class 'pandas.core.frame.DataFrame'>\n",
      "RangeIndex: 7025 entries, 0 to 7024\n",
      "Data columns (total 19 columns):\n",
      " #   Column                           Non-Null Count  Dtype \n",
      "---  ------                           --------------  ----- \n",
      " 0   Timestamp                        7025 non-null   object\n",
      " 1   Technician                       7025 non-null   object\n",
      " 2   H Number                         7025 non-null   object\n",
      " 3   Is this a replacement?           7025 non-null   object\n",
      " 4   Year                             7025 non-null   int64 \n",
      " 5   Make                             7025 non-null   object\n",
      " 6   Model                            7025 non-null   object\n",
      " 7   Engine Size                      7005 non-null   object\n",
      " 8   VIN                              6994 non-null   object\n",
      " 9   Module Type                      7015 non-null   object\n",
      " 10  Service Provided                 6995 non-null   object\n",
      " 11  Original Problem(s)              7012 non-null   object\n",
      " 12  DTCs on original unit            6155 non-null   object\n",
      " 13  Current Problem(s)               7018 non-null   object\n",
      " 14  DTCs on our unit                 6311 non-null   object\n",
      " 15  Problems Related?                7025 non-null   object\n",
      " 16  Diagnosed properly by Customer?  7025 non-null   object\n",
      " 17  Additional Notes                 3692 non-null   object\n",
      " 18  Resolution:                      7024 non-null   object\n",
      "dtypes: int64(1), object(18)\n",
      "memory usage: 1.0+ MB\n"
     ]
    }
   ],
   "source": [
    "# Print the dataframe information after cleaning\n",
    "df_google_form_spdsht_renamed_column.info()"
   ]
  },
  {
   "cell_type": "code",
   "execution_count": 18,
   "id": "f600a7ee",
   "metadata": {},
   "outputs": [
    {
     "data": {
      "text/plain": [
       "Service Provided\n",
       "Programming                     6188\n",
       "Virginized/Reset Immobilizer     307\n",
       "Part Number/Sticker Check        250\n",
       "Cloning                          128\n",
       "Repair                           120\n",
       "Testing                            2\n",
       "Name: count, dtype: int64"
      ]
     },
     "execution_count": 18,
     "metadata": {},
     "output_type": "execute_result"
    }
   ],
   "source": [
    "# The column 'Service Provided' confirms if there are H numbers that need to be removed.\n",
    "# After checking the service type, the ones that need to be removed are:\n",
    "# Repair\n",
    "# Testing\n",
    "df_google_form_spdsht_renamed_column['Service Provided'].value_counts()"
   ]
  },
  {
   "cell_type": "code",
   "execution_count": 19,
   "id": "e8e70ef8",
   "metadata": {},
   "outputs": [],
   "source": [
    "# Filter the dataframe with only the service types needed \n",
    "df_google_form_spdsht_servtype_needed = df_google_form_spdsht_renamed_column[df_google_form_spdsht_renamed_column['Service Provided'].isin(['Programming', 'Virginized/Reset Immobilizer', 'Part Number/Sticker Check', 'Cloning'])]"
   ]
  },
  {
   "cell_type": "code",
   "execution_count": 20,
   "id": "c184e566",
   "metadata": {},
   "outputs": [
    {
     "name": "stderr",
     "output_type": "stream",
     "text": [
      "C:\\Users\\Weverson Barbieri\\AppData\\Local\\Temp\\ipykernel_9296\\1129379814.py:2: SettingWithCopyWarning: \n",
      "A value is trying to be set on a copy of a slice from a DataFrame.\n",
      "Try using .loc[row_indexer,col_indexer] = value instead\n",
      "\n",
      "See the caveats in the documentation: https://pandas.pydata.org/pandas-docs/stable/user_guide/indexing.html#returning-a-view-versus-a-copy\n",
      "  df_google_form_spdsht_servtype_needed['H Number in Google Form'] = df_google_form_spdsht_servtype_needed['H Number'].isin(df_google_form_filtered_from_main_df['H Number'])\n"
     ]
    }
   ],
   "source": [
    "# Check mark with bool values the accounts that matches in the main df\n",
    "df_google_form_spdsht_servtype_needed['H Number in Google Form'] = df_google_form_spdsht_servtype_needed['H Number'].isin(df_google_form_filtered_from_main_df['H Number'])"
   ]
  },
  {
   "cell_type": "code",
   "execution_count": 21,
   "id": "333c49c0",
   "metadata": {},
   "outputs": [
    {
     "data": {
      "text/plain": [
       "H Number in Google Form\n",
       "False    6553\n",
       "True      320\n",
       "Name: count, dtype: int64"
      ]
     },
     "execution_count": 21,
     "metadata": {},
     "output_type": "execute_result"
    }
   ],
   "source": [
    "# Check the value counts of the new column\n",
    "df_google_form_spdsht_servtype_needed['H Number in Google Form'].value_counts()"
   ]
  },
  {
   "cell_type": "code",
   "execution_count": 22,
   "id": "29abd34d",
   "metadata": {},
   "outputs": [],
   "source": [
    "# Create a df with the accounts matching both dfs\n",
    "df_google_form_spdsht_matches = df_google_form_spdsht_servtype_needed[df_google_form_spdsht_servtype_needed['H Number in Google Form'].isin([True])]"
   ]
  },
  {
   "cell_type": "code",
   "execution_count": 23,
   "id": "4a45ad4c",
   "metadata": {},
   "outputs": [
    {
     "name": "stderr",
     "output_type": "stream",
     "text": [
      "C:\\Users\\Weverson Barbieri\\AppData\\Local\\Temp\\ipykernel_9296\\3425039679.py:2: SettingWithCopyWarning: \n",
      "A value is trying to be set on a copy of a slice from a DataFrame.\n",
      "Try using .loc[row_indexer,col_indexer] = value instead\n",
      "\n",
      "See the caveats in the documentation: https://pandas.pydata.org/pandas-docs/stable/user_guide/indexing.html#returning-a-view-versus-a-copy\n",
      "  df_google_form_spdsht_matches['Duplicated Acc'] = df_google_form_spdsht_matches.duplicated(subset='H Number')\n"
     ]
    }
   ],
   "source": [
    "# Check mark with bool values the duplicated accounts\n",
    "df_google_form_spdsht_matches['Duplicated Acc'] = df_google_form_spdsht_matches.duplicated(subset='H Number') "
   ]
  },
  {
   "cell_type": "code",
   "execution_count": 24,
   "id": "a057cfce",
   "metadata": {},
   "outputs": [
    {
     "data": {
      "text/plain": [
       "Duplicated Acc\n",
       "False    290\n",
       "True      30\n",
       "Name: count, dtype: int64"
      ]
     },
     "execution_count": 24,
     "metadata": {},
     "output_type": "execute_result"
    }
   ],
   "source": [
    "# Count the duplicated accounts\n",
    "df_google_form_spdsht_matches['Duplicated Acc'].value_counts()"
   ]
  },
  {
   "cell_type": "markdown",
   "id": "6ee3c3f2",
   "metadata": {},
   "source": [
    "### **DUPLICATE ACCOUNT MANAGEMENT**\n",
    "\n",
    "#### **🎯 REMOVAL STRATEGY**\n",
    "\n",
    "Duplicated accounts will be removed from the dataset due to:\n",
    "\n",
    "- **Low Volume Impact**: Duplicates represent a minimal percentage of total records\n",
    "- **Processing Efficiency**: Removal avoids unnecessary data cleaning effort \n",
    "- **Quality Assurance**: Maintains clean, unique records for reliable analysis\n",
    "\n",
    "This approach prioritizes analytical efficiency while maintaining data quality without significant information loss."
   ]
  },
  {
   "cell_type": "code",
   "execution_count": 25,
   "id": "caf30053",
   "metadata": {},
   "outputs": [],
   "source": [
    "# Filter only accounts not duplicated and disregard the duplicates \n",
    "df_google_form_spdsht_wo_duplicates = df_google_form_spdsht_matches[df_google_form_spdsht_matches['Duplicated Acc'] == False]"
   ]
  },
  {
   "cell_type": "code",
   "execution_count": 26,
   "id": "f952b861",
   "metadata": {},
   "outputs": [
    {
     "name": "stdout",
     "output_type": "stream",
     "text": [
      "<class 'pandas.core.frame.DataFrame'>\n",
      "Index: 290 entries, 25 to 6996\n",
      "Data columns (total 21 columns):\n",
      " #   Column                           Non-Null Count  Dtype \n",
      "---  ------                           --------------  ----- \n",
      " 0   Timestamp                        290 non-null    object\n",
      " 1   Technician                       290 non-null    object\n",
      " 2   H Number                         290 non-null    object\n",
      " 3   Is this a replacement?           290 non-null    object\n",
      " 4   Year                             290 non-null    int64 \n",
      " 5   Make                             290 non-null    object\n",
      " 6   Model                            290 non-null    object\n",
      " 7   Engine Size                      289 non-null    object\n",
      " 8   VIN                              290 non-null    object\n",
      " 9   Module Type                      290 non-null    object\n",
      " 10  Service Provided                 290 non-null    object\n",
      " 11  Original Problem(s)              289 non-null    object\n",
      " 12  DTCs on original unit            217 non-null    object\n",
      " 13  Current Problem(s)               290 non-null    object\n",
      " 14  DTCs on our unit                 217 non-null    object\n",
      " 15  Problems Related?                290 non-null    object\n",
      " 16  Diagnosed properly by Customer?  290 non-null    object\n",
      " 17  Additional Notes                 178 non-null    object\n",
      " 18  Resolution:                      290 non-null    object\n",
      " 19  H Number in Google Form          290 non-null    bool  \n",
      " 20  Duplicated Acc                   290 non-null    bool  \n",
      "dtypes: bool(2), int64(1), object(18)\n",
      "memory usage: 45.9+ KB\n"
     ]
    }
   ],
   "source": [
    "# Check the info from the df\n",
    "df_google_form_spdsht_wo_duplicates.info()"
   ]
  },
  {
   "cell_type": "code",
   "execution_count": 27,
   "id": "23ef9fa1",
   "metadata": {},
   "outputs": [],
   "source": [
    "# Drop no needed columns\n",
    "df_google_form_spdsht_dropped_cols = df_google_form_spdsht_wo_duplicates.drop(columns=['H Number in Google Form', 'Duplicated Acc'])"
   ]
  },
  {
   "cell_type": "code",
   "execution_count": 28,
   "id": "15495cff",
   "metadata": {},
   "outputs": [
    {
     "name": "stdout",
     "output_type": "stream",
     "text": [
      "<class 'pandas.core.frame.DataFrame'>\n",
      "Index: 290 entries, 25 to 6996\n",
      "Data columns (total 19 columns):\n",
      " #   Column                           Non-Null Count  Dtype \n",
      "---  ------                           --------------  ----- \n",
      " 0   Timestamp                        290 non-null    object\n",
      " 1   Technician                       290 non-null    object\n",
      " 2   H Number                         290 non-null    object\n",
      " 3   Is this a replacement?           290 non-null    object\n",
      " 4   Year                             290 non-null    int64 \n",
      " 5   Make                             290 non-null    object\n",
      " 6   Model                            290 non-null    object\n",
      " 7   Engine Size                      289 non-null    object\n",
      " 8   VIN                              290 non-null    object\n",
      " 9   Module Type                      290 non-null    object\n",
      " 10  Service Provided                 290 non-null    object\n",
      " 11  Original Problem(s)              289 non-null    object\n",
      " 12  DTCs on original unit            217 non-null    object\n",
      " 13  Current Problem(s)               290 non-null    object\n",
      " 14  DTCs on our unit                 217 non-null    object\n",
      " 15  Problems Related?                290 non-null    object\n",
      " 16  Diagnosed properly by Customer?  290 non-null    object\n",
      " 17  Additional Notes                 178 non-null    object\n",
      " 18  Resolution:                      290 non-null    object\n",
      "dtypes: int64(1), object(18)\n",
      "memory usage: 45.3+ KB\n"
     ]
    }
   ],
   "source": [
    "# Check the info after removing the columns\n",
    "df_google_form_spdsht_dropped_cols.info()"
   ]
  },
  {
   "cell_type": "code",
   "execution_count": 29,
   "id": "9e94c906",
   "metadata": {},
   "outputs": [
    {
     "name": "stdout",
     "output_type": "stream",
     "text": [
      "<class 'pandas.core.frame.DataFrame'>\n",
      "Index: 1762 entries, 0 to 8387\n",
      "Data columns (total 12 columns):\n",
      " #   Column        Non-Null Count  Dtype  \n",
      "---  ------        --------------  -----  \n",
      " 0   Created Time  1762 non-null   object \n",
      " 1   H Number      1762 non-null   object \n",
      " 2   Entry Type    1762 non-null   object \n",
      " 3   Technician    1710 non-null   object \n",
      " 4   Source        1762 non-null   object \n",
      " 5   Year          1762 non-null   float64\n",
      " 6   Make          1762 non-null   object \n",
      " 7   Model         1762 non-null   object \n",
      " 8   Engine Size   1713 non-null   object \n",
      " 9   HW #          1529 non-null   object \n",
      " 10  Part #        1655 non-null   object \n",
      " 11  Notes         1716 non-null   object \n",
      "dtypes: float64(1), object(11)\n",
      "memory usage: 179.0+ KB\n"
     ]
    }
   ],
   "source": [
    "# Check the info from the main df\n",
    "df_google_form_filtered_from_main_df.info()"
   ]
  },
  {
   "cell_type": "markdown",
   "id": "f848e35d",
   "metadata": {},
   "source": [
    "#### **🔄 INTEGRATION STRATEGY**\n",
    "\n",
    "As observed above, the main `df_google_form_filtered_from_main_df` contains over 1,500 rows with diagnostic data from multiple Google Forms. However, the secondary dataframe does not contain all accounts, but only a subset of them. Since diagnostic data extraction is not feasible due to updated field structures in Google Forms, a **merge operation** will be performed to concatenate data from the secondary dataframe to the main dataframe.\n",
    "\n",
    "**Process:**\n",
    "- Cross-reference account numbers between both dataframes\n",
    "- Map structured diagnostic fields from secondary dataset to main dataset  \n",
    "- Fill empty diagnostic columns through controlled data transfer\n",
    "- Maintain data integrity during the merge operation\n",
    "\n",
    "This approach leverages the pre-structured data availability to bypass complex regex extraction challenges while ensuring complete diagnostic information integration."
   ]
  },
  {
   "cell_type": "code",
   "execution_count": 30,
   "id": "50c4ef93",
   "metadata": {},
   "outputs": [
    {
     "name": "stderr",
     "output_type": "stream",
     "text": [
      "C:\\Users\\Weverson Barbieri\\AppData\\Local\\Temp\\ipykernel_9296\\1576423565.py:3: SettingWithCopyWarning: \n",
      "A value is trying to be set on a copy of a slice from a DataFrame.\n",
      "Try using .loc[row_indexer,col_indexer] = value instead\n",
      "\n",
      "See the caveats in the documentation: https://pandas.pydata.org/pandas-docs/stable/user_guide/indexing.html#returning-a-view-versus-a-copy\n",
      "  df_google_form_filtered_from_main_df['H Number True'] = df_google_form_filtered_from_main_df['H Number'].isin(df_google_form_spdsht_dropped_cols['H Number'])\n"
     ]
    }
   ],
   "source": [
    "# Before merging the data from the secondary df to the main df, check mark the main df with the accounts that match on both dfs,\n",
    "# so that the accounts that do not match will be disregarded.   \n",
    "df_google_form_filtered_from_main_df['H Number True'] = df_google_form_filtered_from_main_df['H Number'].isin(df_google_form_spdsht_dropped_cols['H Number'])"
   ]
  },
  {
   "cell_type": "code",
   "execution_count": 31,
   "id": "627b08a5",
   "metadata": {},
   "outputs": [],
   "source": [
    "# Filter only the accounts which match both dfs\n",
    "df_main_google_form_true = df_google_form_filtered_from_main_df[df_google_form_filtered_from_main_df['H Number True'] == True]"
   ]
  },
  {
   "cell_type": "code",
   "execution_count": 32,
   "id": "4990e961",
   "metadata": {},
   "outputs": [
    {
     "name": "stdout",
     "output_type": "stream",
     "text": [
      "<class 'pandas.core.frame.DataFrame'>\n",
      "Index: 352 entries, 1 to 8377\n",
      "Data columns (total 13 columns):\n",
      " #   Column         Non-Null Count  Dtype  \n",
      "---  ------         --------------  -----  \n",
      " 0   Created Time   352 non-null    object \n",
      " 1   H Number       352 non-null    object \n",
      " 2   Entry Type     352 non-null    object \n",
      " 3   Technician     335 non-null    object \n",
      " 4   Source         352 non-null    object \n",
      " 5   Year           352 non-null    float64\n",
      " 6   Make           352 non-null    object \n",
      " 7   Model          352 non-null    object \n",
      " 8   Engine Size    341 non-null    object \n",
      " 9   HW #           307 non-null    object \n",
      " 10  Part #         339 non-null    object \n",
      " 11  Notes          352 non-null    object \n",
      " 12  H Number True  352 non-null    bool   \n",
      "dtypes: bool(1), float64(1), object(11)\n",
      "memory usage: 36.1+ KB\n"
     ]
    }
   ],
   "source": [
    "# Check the data from main df after filtering only the accounts that match with the secondary df\n",
    "df_main_google_form_true.info()"
   ]
  },
  {
   "cell_type": "markdown",
   "id": "77e94022",
   "metadata": {},
   "source": [
    "#### **🔧 Column Management for Merge Operation**\n",
    "\n",
    "The main dataframe contains only the Notes column with diagnostic data, while the first columns (technician, date, and vehicle data) exist in both dataframes. To perform the merge without creating additional columns that pandas `merge()` generates, the duplicate columns present in both dataframes will be deleted before the merge operation.\n",
    "\n",
    "**Secondary DataFrame Structure**: Will retain only the H Number column and diagnostic data columns (Original Problems, Original DTCs, FS1 Problems, FS1 DTCs, etc.), while all duplicate metadata columns will be removed.\n",
    "\n",
    "**Rationale**: Prevents column duplication and maintains clean data structure during the integration process."
   ]
  },
  {
   "cell_type": "code",
   "execution_count": 33,
   "id": "6472ebc2",
   "metadata": {},
   "outputs": [
    {
     "data": {
      "text/plain": [
       "Index(['Timestamp', 'Technician', 'H Number', 'Is this a replacement?', 'Year',\n",
       "       'Make', 'Model', 'Engine Size', 'VIN', 'Module Type',\n",
       "       'Service Provided', 'Original Problem(s)', 'DTCs on original unit',\n",
       "       'Current Problem(s)', 'DTCs on our unit', 'Problems Related?',\n",
       "       'Diagnosed properly by Customer?', 'Additional Notes', 'Resolution:'],\n",
       "      dtype='object')"
      ]
     },
     "execution_count": 33,
     "metadata": {},
     "output_type": "execute_result"
    }
   ],
   "source": [
    "# Check the columns available on the secondary df\n",
    "df_google_form_spdsht_dropped_cols.columns"
   ]
  },
  {
   "cell_type": "code",
   "execution_count": 34,
   "id": "23c99ee5",
   "metadata": {},
   "outputs": [],
   "source": [
    "# Create a list with columns that WILL NOT BE deleted on the secondary df\n",
    "spdsht_keep_cols_list = [\n",
    "    'H Number', 'Original Problem(s)', 'DTCs on original unit',\n",
    "    'Current Problem(s)', 'DTCs on our unit', 'Problems Related?',\n",
    "    'Diagnosed properly by Customer?', 'Additional Notes', 'Resolution:'\n",
    "    ]"
   ]
  },
  {
   "cell_type": "code",
   "execution_count": 35,
   "id": "8c1e978d",
   "metadata": {},
   "outputs": [],
   "source": [
    "# List with cols WILL BE DELETED on the secondary df\n",
    "spdsht_delete_cols_list = []\n",
    "\n",
    "# Loop to iterate under the columns\n",
    "for col in df_google_form_spdsht_dropped_cols.columns:\n",
    "    # Condition to confirm if the columns are not in the keep columns list\n",
    "    if col not in spdsht_keep_cols_list:\n",
    "        # Append the columns will be deleted\n",
    "        spdsht_delete_cols_list.append(col)"
   ]
  },
  {
   "cell_type": "code",
   "execution_count": 36,
   "id": "a8592d56",
   "metadata": {},
   "outputs": [
    {
     "data": {
      "text/plain": [
       "['Timestamp',\n",
       " 'Technician',\n",
       " 'Is this a replacement?',\n",
       " 'Year',\n",
       " 'Make',\n",
       " 'Model',\n",
       " 'Engine Size',\n",
       " 'VIN',\n",
       " 'Module Type',\n",
       " 'Service Provided']"
      ]
     },
     "execution_count": 36,
     "metadata": {},
     "output_type": "execute_result"
    }
   ],
   "source": [
    "# Print the colums WILL BE DELETED\n",
    "spdsht_delete_cols_list"
   ]
  },
  {
   "cell_type": "code",
   "execution_count": 37,
   "id": "b6c65891",
   "metadata": {},
   "outputs": [],
   "source": [
    "# Drop the columns appened above\n",
    "df_sec_spdsht_drop_diag_cols = df_google_form_spdsht_dropped_cols.drop(columns=spdsht_delete_cols_list)"
   ]
  },
  {
   "cell_type": "code",
   "execution_count": 38,
   "id": "f66b60ee",
   "metadata": {},
   "outputs": [
    {
     "data": {
      "text/plain": [
       "Index(['H Number', 'Original Problem(s)', 'DTCs on original unit',\n",
       "       'Current Problem(s)', 'DTCs on our unit', 'Problems Related?',\n",
       "       'Diagnosed properly by Customer?', 'Additional Notes', 'Resolution:'],\n",
       "      dtype='object')"
      ]
     },
     "execution_count": 38,
     "metadata": {},
     "output_type": "execute_result"
    }
   ],
   "source": [
    "# Check the columns after dropping\n",
    "df_sec_spdsht_drop_diag_cols.columns"
   ]
  },
  {
   "cell_type": "code",
   "execution_count": 39,
   "id": "21c4f1f8",
   "metadata": {},
   "outputs": [],
   "source": [
    "# Merge main df with secondary df \n",
    "df_main_sec_merged = pd.merge(df_main_google_form_true, df_sec_spdsht_drop_diag_cols, on='H Number', how='outer')"
   ]
  },
  {
   "cell_type": "code",
   "execution_count": 40,
   "id": "d372d98d",
   "metadata": {},
   "outputs": [
    {
     "data": {
      "text/plain": [
       "Index(['Created Time', 'H Number', 'Entry Type', 'Technician', 'Source',\n",
       "       'Year', 'Make', 'Model', 'Engine Size', 'HW #', 'Part #', 'Notes',\n",
       "       'H Number True', 'Original Problem(s)', 'DTCs on original unit',\n",
       "       'Current Problem(s)', 'DTCs on our unit', 'Problems Related?',\n",
       "       'Diagnosed properly by Customer?', 'Additional Notes', 'Resolution:'],\n",
       "      dtype='object')"
      ]
     },
     "execution_count": 40,
     "metadata": {},
     "output_type": "execute_result"
    }
   ],
   "source": [
    "# Check the columns avaible after merging\n",
    "df_main_sec_merged.columns"
   ]
  },
  {
   "cell_type": "code",
   "execution_count": 41,
   "id": "928a33e2",
   "metadata": {},
   "outputs": [],
   "source": [
    "# This map will be used to rename the columns \n",
    "col_mapping = {\n",
    "    'Original Problem(s)': 'Original Problems', \n",
    "    'DTCs on original unit': 'Original DTCs',\n",
    "    'Current Problem(s)': 'FS1 ECU Problems', \n",
    "    'DTCs on our unit': 'FS1 ECU DTCs', \n",
    "    'Problems Related?': 'Are the problems related'\n",
    "}"
   ]
  },
  {
   "cell_type": "code",
   "execution_count": 42,
   "id": "6512e1ae",
   "metadata": {},
   "outputs": [],
   "source": [
    "# Remane the columns to the standard names using the above \n",
    "df_main_sec_merged.rename(columns=col_mapping, inplace=True)"
   ]
  },
  {
   "cell_type": "code",
   "execution_count": 43,
   "id": "f010057b",
   "metadata": {},
   "outputs": [
    {
     "data": {
      "text/plain": [
       "Index(['Created Time', 'H Number', 'Entry Type', 'Technician', 'Source',\n",
       "       'Year', 'Make', 'Model', 'Engine Size', 'HW #', 'Part #', 'Notes',\n",
       "       'H Number True', 'Original Problems', 'Original DTCs',\n",
       "       'FS1 ECU Problems', 'FS1 ECU DTCs', 'Are the problems related',\n",
       "       'Diagnosed properly by Customer?', 'Additional Notes', 'Resolution:'],\n",
       "      dtype='object')"
      ]
     },
     "execution_count": 43,
     "metadata": {},
     "output_type": "execute_result"
    }
   ],
   "source": [
    "# Print the columns to confirm the changes\n",
    "df_main_sec_merged.columns"
   ]
  },
  {
   "cell_type": "markdown",
   "id": "8dedb70d",
   "metadata": {},
   "source": [
    "------------------------------------------------------------------------------------------------------------------------------------------------------------------------------------------------------"
   ]
  },
  {
   "cell_type": "markdown",
   "id": "bbb44b71",
   "metadata": {},
   "source": [
    "#### **🔧 Post-Merge Data Processing**\n",
    "\n",
    "After merging part of the data from the secondary dataframe to the main dataframe, the accounts that are not in the secondary dataframe will now be processed."
   ]
  },
  {
   "cell_type": "code",
   "execution_count": 44,
   "id": "8bcec2ff",
   "metadata": {},
   "outputs": [],
   "source": [
    "# Filter the accounts DO NOT MATCH both dfs (main vs secondary)\n",
    "df_main_not_match_sec_df = df_google_form_filtered_from_main_df[df_google_form_filtered_from_main_df['H Number True'] == False]"
   ]
  },
  {
   "cell_type": "code",
   "execution_count": 45,
   "id": "41b72711",
   "metadata": {},
   "outputs": [],
   "source": [
    "# Remove the null values from column notes\n",
    "df_main_not_match_sec_df_rm_null = df_main_not_match_sec_df.dropna(subset=['Notes'])"
   ]
  },
  {
   "cell_type": "code",
   "execution_count": 46,
   "id": "9f8986c8",
   "metadata": {},
   "outputs": [
    {
     "name": "stdout",
     "output_type": "stream",
     "text": [
      "<class 'pandas.core.frame.DataFrame'>\n",
      "Index: 1364 entries, 0 to 8387\n",
      "Data columns (total 13 columns):\n",
      " #   Column         Non-Null Count  Dtype  \n",
      "---  ------         --------------  -----  \n",
      " 0   Created Time   1364 non-null   object \n",
      " 1   H Number       1364 non-null   object \n",
      " 2   Entry Type     1364 non-null   object \n",
      " 3   Technician     1329 non-null   object \n",
      " 4   Source         1364 non-null   object \n",
      " 5   Year           1364 non-null   float64\n",
      " 6   Make           1364 non-null   object \n",
      " 7   Model          1364 non-null   object \n",
      " 8   Engine Size    1326 non-null   object \n",
      " 9   HW #           1182 non-null   object \n",
      " 10  Part #         1271 non-null   object \n",
      " 11  Notes          1364 non-null   object \n",
      " 12  H Number True  1364 non-null   bool   \n",
      "dtypes: bool(1), float64(1), object(11)\n",
      "memory usage: 139.9+ KB\n"
     ]
    }
   ],
   "source": [
    "# Check the info \n",
    "df_main_not_match_sec_df_rm_null.info()"
   ]
  },
  {
   "cell_type": "markdown",
   "id": "0a458afb",
   "metadata": {},
   "source": [
    "### **🔍 GOOGLE FORM DATA FILTERING STRATEGY**\n",
    "\n",
    "This dataset contains mixed diagnostic entries including Google Form prescreens, updated accounts with additional information, and non-Google Form prescreens. To streamline diagnostic data extraction, only accounts prescreened using Google Forms will be processed, leveraging regex patterns and standardized form fields. The string \"DTCs present\" appears in all Google Form entries, therefore rows without this identifier will be excluded from the dataset."
   ]
  },
  {
   "cell_type": "code",
   "execution_count": 47,
   "id": "b64f33e7",
   "metadata": {},
   "outputs": [],
   "source": [
    "# Find the rows prescreened using the google form and use the string DTCs present to find them\n",
    "df_googl_form_second_extrac = df_main_not_match_sec_df_rm_null['Notes'].str.findall(r'DTCs?\\s+present')"
   ]
  },
  {
   "cell_type": "code",
   "execution_count": 48,
   "id": "99bc374c",
   "metadata": {},
   "outputs": [],
   "source": [
    "# List to append the indexes\n",
    "dtc_pres_str_idx_list = []\n",
    "\n",
    "# Iterate over series to get the indexes\n",
    "for idx, matches in df_googl_form_second_extrac.items():\n",
    "    # Condition when is found\n",
    "    if matches:\n",
    "        dtc_pres_str_idx_list.append(idx)"
   ]
  },
  {
   "cell_type": "code",
   "execution_count": 49,
   "id": "cc725b35",
   "metadata": {},
   "outputs": [
    {
     "name": "stderr",
     "output_type": "stream",
     "text": [
      "C:\\Users\\Weverson Barbieri\\AppData\\Local\\Temp\\ipykernel_9296\\1179785714.py:2: SettingWithCopyWarning: \n",
      "A value is trying to be set on a copy of a slice from a DataFrame.\n",
      "Try using .loc[row_indexer,col_indexer] = value instead\n",
      "\n",
      "See the caveats in the documentation: https://pandas.pydata.org/pandas-docs/stable/user_guide/indexing.html#returning-a-view-versus-a-copy\n",
      "  df_main_not_match_sec_df_rm_null['Index w/ Str True'] = df_main_not_match_sec_df_rm_null.index.isin(dtc_pres_str_idx_list)\n"
     ]
    }
   ],
   "source": [
    "# Check mark the rows which have the string DTCs present in the main df\n",
    "df_main_not_match_sec_df_rm_null['Index w/ Str True'] = df_main_not_match_sec_df_rm_null.index.isin(dtc_pres_str_idx_list)"
   ]
  },
  {
   "cell_type": "code",
   "execution_count": 50,
   "id": "d1279ce0",
   "metadata": {},
   "outputs": [],
   "source": [
    "# Create a df with only the accounts prescreened with google form (or the ones that has the string 'DTC Present')\n",
    "df_prescre_googl_form = df_main_not_match_sec_df_rm_null[df_main_not_match_sec_df_rm_null['Index w/ Str True'] == True] "
   ]
  },
  {
   "cell_type": "code",
   "execution_count": 51,
   "id": "e3b96514",
   "metadata": {},
   "outputs": [
    {
     "name": "stdout",
     "output_type": "stream",
     "text": [
      "Problem(s) experienced with the original unit: Transmission j1850 not found\n",
      "DTCs present with original unit:\n",
      "J1850 no transmission\n",
      "Problem(s) experienced with the unit we've provided: Rough startup ,\n",
      "rough idle, horrible white smoke at first then black smoke which never\n",
      "happened before\n",
      "DTCs present with unit we've provided:\n",
      "P0606 PCM Processor Fault\n",
      "P2146 Fuel Injector Group \"A\" Supply Voltage Circuit/Open\n",
      "P0480 Cooling Fan I Control Circuit Malfunction\n",
      "P2149 Fuel Injector Group \"B\" Supply Voltage Circuit/Open\n",
      "Are the original and current problems related? No\n",
      "Were the appropriate diagnostic steps followed? Not Sure/Inconclusive\n",
      "Additional Notes:\n",
      "Resolution: Return unit to testing department\n"
     ]
    }
   ],
   "source": [
    "# Print one of the rows to confirm the google form fields pattern\n",
    "print(df_prescre_googl_form['Notes'][6])"
   ]
  },
  {
   "cell_type": "markdown",
   "id": "3719ccc8",
   "metadata": {},
   "source": [
    "### **📋 GOOGLE FORM FIELD VALIDATION**\n",
    "\n",
    "#### **🎯 STANDARD FORM STRUCTURE**\n",
    "Google Form entries contain the following standardized fields:\n",
    "- Problem(s) experienced with the original unit\n",
    "- DTCs present with original unit  \n",
    "- Problem(s) experienced with the unit we've provided\n",
    "- DTCs present with unit we've provided\n",
    "- Are the original and current problems related?\n",
    "\n",
    "#### **🔧 VALIDATION APPROACH**\n",
    "A validation function will be created to confirm all rows contain these identical fields. Form updates over time may have altered field structures, potentially preventing regex extraction from capturing data in some rows. This validation ensures consistent field presence across all Google Form entries before proceeding with data extraction."
   ]
  },
  {
   "cell_type": "code",
   "execution_count": 52,
   "id": "462c2000",
   "metadata": {},
   "outputs": [],
   "source": [
    "# Function to create a series with the rows containing the field based on the pattern\n",
    "def confirm_google_form_field(df, pattern):\n",
    "    # Create a series with the rows that contains the field\n",
    "    ser_field = df['Notes'].str.contains(pattern, case=False, na=False)\n",
    "    # Return the rows counted\n",
    "    return ser_field.sum()"
   ]
  },
  {
   "cell_type": "markdown",
   "id": "f6215bad",
   "metadata": {},
   "source": [
    "### FIELD: Problem(s) experienced with the original unit"
   ]
  },
  {
   "cell_type": "code",
   "execution_count": 53,
   "id": "bab08198",
   "metadata": {},
   "outputs": [],
   "source": [
    "# Create a pattern\n",
    "original_problems_field_pattern = r'experienced\\s+with\\s+the\\s+original\\s+unit'"
   ]
  },
  {
   "cell_type": "code",
   "execution_count": 54,
   "id": "5d1134bd",
   "metadata": {},
   "outputs": [
    {
     "data": {
      "text/plain": [
       "np.int64(262)"
      ]
     },
     "execution_count": 54,
     "metadata": {},
     "output_type": "execute_result"
    }
   ],
   "source": [
    "# Call the function to count the rows with the google form field\n",
    "confirm_google_form_field(df_prescre_googl_form, original_problems_field_pattern)"
   ]
  },
  {
   "cell_type": "markdown",
   "id": "76c20051",
   "metadata": {},
   "source": [
    "### FIELD: DTCs present with original unit"
   ]
  },
  {
   "cell_type": "code",
   "execution_count": 55,
   "id": "308d1eba",
   "metadata": {},
   "outputs": [],
   "source": [
    "# Create a pattern\n",
    "original_dtcs_field_pattern = r'DTCs\\s+present\\s+with\\s+original\\s+unit' "
   ]
  },
  {
   "cell_type": "code",
   "execution_count": 56,
   "id": "25c3964f",
   "metadata": {},
   "outputs": [
    {
     "data": {
      "text/plain": [
       "np.int64(262)"
      ]
     },
     "execution_count": 56,
     "metadata": {},
     "output_type": "execute_result"
    }
   ],
   "source": [
    "# Call the function to count the rows with the google form field\n",
    "confirm_google_form_field(df_prescre_googl_form, original_dtcs_field_pattern)"
   ]
  },
  {
   "cell_type": "markdown",
   "id": "8da18b9d",
   "metadata": {},
   "source": [
    "### FIELD: Problem(s) experienced with the unit we've provided"
   ]
  },
  {
   "cell_type": "code",
   "execution_count": 57,
   "id": "bd15caf8",
   "metadata": {},
   "outputs": [],
   "source": [
    "# Create a pattern\n",
    "fs1_problems_field_pattern = r'experienced\\s+with\\s+the\\s+unit\\s+we' "
   ]
  },
  {
   "cell_type": "code",
   "execution_count": 58,
   "id": "03a629cc",
   "metadata": {},
   "outputs": [
    {
     "data": {
      "text/plain": [
       "np.int64(262)"
      ]
     },
     "execution_count": 58,
     "metadata": {},
     "output_type": "execute_result"
    }
   ],
   "source": [
    "# Call the function to count the rows with the google form field\n",
    "confirm_google_form_field(df_prescre_googl_form, fs1_problems_field_pattern)"
   ]
  },
  {
   "cell_type": "markdown",
   "id": "85ab6477",
   "metadata": {},
   "source": [
    "### FIELD: DTCs present with unit we've provided"
   ]
  },
  {
   "cell_type": "code",
   "execution_count": 59,
   "id": "f3ec7a75",
   "metadata": {},
   "outputs": [],
   "source": [
    "# Create a pattern\n",
    "fs1_dtcs_field_pattern = r'DTCs\\s+present\\s+with\\s+unit\\s+we' "
   ]
  },
  {
   "cell_type": "code",
   "execution_count": 60,
   "id": "fa6e3612",
   "metadata": {},
   "outputs": [
    {
     "data": {
      "text/plain": [
       "np.int64(262)"
      ]
     },
     "execution_count": 60,
     "metadata": {},
     "output_type": "execute_result"
    }
   ],
   "source": [
    "# Call the function to count the rows with the google form field\n",
    "confirm_google_form_field(df_prescre_googl_form, fs1_dtcs_field_pattern)"
   ]
  },
  {
   "cell_type": "code",
   "execution_count": 61,
   "id": "366df3f0",
   "metadata": {},
   "outputs": [],
   "source": [
    "# Create a pattern\n",
    "problems_related_field_pattern = r'the\\s+original\\s+and\\s+current\\s+problems\\s+related' "
   ]
  },
  {
   "cell_type": "code",
   "execution_count": 62,
   "id": "8745fb24",
   "metadata": {},
   "outputs": [
    {
     "data": {
      "text/plain": [
       "np.int64(262)"
      ]
     },
     "execution_count": 62,
     "metadata": {},
     "output_type": "execute_result"
    }
   ],
   "source": [
    "# Call the function to count the rows with the google form field\n",
    "confirm_google_form_field(df_prescre_googl_form, problems_related_field_pattern)"
   ]
  },
  {
   "cell_type": "code",
   "execution_count": 63,
   "id": "b14b3140",
   "metadata": {},
   "outputs": [
    {
     "name": "stdout",
     "output_type": "stream",
     "text": [
      "<class 'pandas.core.frame.DataFrame'>\n",
      "Index: 263 entries, 6 to 8387\n",
      "Data columns (total 14 columns):\n",
      " #   Column             Non-Null Count  Dtype  \n",
      "---  ------             --------------  -----  \n",
      " 0   Created Time       263 non-null    object \n",
      " 1   H Number           263 non-null    object \n",
      " 2   Entry Type         263 non-null    object \n",
      " 3   Technician         260 non-null    object \n",
      " 4   Source             263 non-null    object \n",
      " 5   Year               263 non-null    float64\n",
      " 6   Make               263 non-null    object \n",
      " 7   Model              263 non-null    object \n",
      " 8   Engine Size        256 non-null    object \n",
      " 9   HW #               237 non-null    object \n",
      " 10  Part #             234 non-null    object \n",
      " 11  Notes              263 non-null    object \n",
      " 12  H Number True      263 non-null    bool   \n",
      " 13  Index w/ Str True  263 non-null    bool   \n",
      "dtypes: bool(2), float64(1), object(11)\n",
      "memory usage: 35.3+ KB\n"
     ]
    }
   ],
   "source": [
    "# Check the df info\n",
    "df_prescre_googl_form.info()"
   ]
  },
  {
   "cell_type": "markdown",
   "id": "c96fd157",
   "metadata": {},
   "source": [
    "### **📊 FIELD VALIDATION RESULTS**\n",
    "\n",
    "The field validation reveals **262 matches out of 263 total dataframe indices**, indicating that **99.6% of rows contain identical Google Form field structures**. This near-perfect consistency confirms that the vast majority of entries follow standardized Google Form patterns, enabling reliable implementation of regex-based extraction processes. The row that does not contain the standard Google Form field structure will be identified and excluded from the dataset."
   ]
  },
  {
   "cell_type": "code",
   "execution_count": 64,
   "id": "a26aff46",
   "metadata": {},
   "outputs": [],
   "source": [
    "# Check which rows do not contain the google form fields  \n",
    "ser_no_googl_form = df_prescre_googl_form['Notes'].str.contains(original_problems_field_pattern, case=False, na=False)"
   ]
  },
  {
   "cell_type": "code",
   "execution_count": 65,
   "id": "c62bc72f",
   "metadata": {},
   "outputs": [
    {
     "data": {
      "text/plain": [
       "2857    False\n",
       "Name: Notes, dtype: bool"
      ]
     },
     "execution_count": 65,
     "metadata": {},
     "output_type": "execute_result"
    }
   ],
   "source": [
    "# Check which index DOES NOT contain the google form fields to be deleted\n",
    "ser_no_googl_form[ser_no_googl_form == False]"
   ]
  },
  {
   "cell_type": "code",
   "execution_count": 66,
   "id": "4aaf384d",
   "metadata": {},
   "outputs": [
    {
     "data": {
      "text/plain": [
       "Index(['Created Time', 'H Number', 'Entry Type', 'Technician', 'Source',\n",
       "       'Year', 'Make', 'Model', 'Engine Size', 'HW #', 'Part #', 'Notes',\n",
       "       'H Number True', 'Index w/ Str True'],\n",
       "      dtype='object')"
      ]
     },
     "execution_count": 66,
     "metadata": {},
     "output_type": "execute_result"
    }
   ],
   "source": [
    "# Check the columns available to drop no needed columns and the above index\n",
    "df_prescre_googl_form.columns"
   ]
  },
  {
   "cell_type": "code",
   "execution_count": 67,
   "id": "c135dd25",
   "metadata": {},
   "outputs": [],
   "source": [
    "# Drop the above row and no needed columns\n",
    "df_prescre_googl_form_dropped_col_idx = df_prescre_googl_form.drop(columns=[ 'H Number True', 'Index w/ Str True'], index=[2857])"
   ]
  },
  {
   "cell_type": "code",
   "execution_count": 68,
   "id": "325e0585",
   "metadata": {},
   "outputs": [
    {
     "name": "stdout",
     "output_type": "stream",
     "text": [
      "<class 'pandas.core.frame.DataFrame'>\n",
      "Index: 262 entries, 6 to 8387\n",
      "Data columns (total 12 columns):\n",
      " #   Column        Non-Null Count  Dtype  \n",
      "---  ------        --------------  -----  \n",
      " 0   Created Time  262 non-null    object \n",
      " 1   H Number      262 non-null    object \n",
      " 2   Entry Type    262 non-null    object \n",
      " 3   Technician    259 non-null    object \n",
      " 4   Source        262 non-null    object \n",
      " 5   Year          262 non-null    float64\n",
      " 6   Make          262 non-null    object \n",
      " 7   Model         262 non-null    object \n",
      " 8   Engine Size   255 non-null    object \n",
      " 9   HW #          236 non-null    object \n",
      " 10  Part #        233 non-null    object \n",
      " 11  Notes         262 non-null    object \n",
      "dtypes: float64(1), object(11)\n",
      "memory usage: 26.6+ KB\n"
     ]
    }
   ],
   "source": [
    "# Check the df info ro confirm the changes\n",
    "df_prescre_googl_form_dropped_col_idx.info()"
   ]
  },
  {
   "cell_type": "code",
   "execution_count": 69,
   "id": "2b492332",
   "metadata": {},
   "outputs": [],
   "source": [
    "def extract_information(df, pattern, col_name, len_size_col):\n",
    "    '''Extract data: symptoms, \n",
    "    dtcs and strings from column notes'''\n",
    "    ser_zoho_form_data_extracted = df['Notes'].str.extract(pattern, flags=re.IGNORECASE | re.DOTALL)\n",
    "    # Rename column from 0 to the related info extracted\n",
    "    zoho_form_data_extracted_renamed_column = ser_zoho_form_data_extracted.rename(columns={0: col_name})\n",
    "    # Replace chars, whitespaces and no needed info from the data extracted\n",
    "    zoho_form_data_extracted_no_chars = zoho_form_data_extracted_renamed_column[col_name].str.replace(r'<[^>]+>|\\n|:|=|\\?|\\\\|\\/|\\r', '', regex=True).str.strip()\n",
    "    # Update the main df with the extracted data\n",
    "    df[col_name] = zoho_form_data_extracted_no_chars\n",
    "        \n",
    "    '''Method to create a list with the data extracted to check if the field names were not included in the extraction'''\n",
    "    # List with the string sizes\n",
    "    string_size_list = []\n",
    "\n",
    "    # Loop to iterate under the original problems column\n",
    "    for string in df[col_name]:\n",
    "        # Make all the data will be converted to strings\n",
    "        to_string = str(string)\n",
    "        # Count the strings' length\n",
    "        string_length = len(to_string)\n",
    "        # Append the length to the list\n",
    "        string_size_list.append(string_length)\n",
    "\n",
    "    # Add to the main df a column with length of the data extracted\n",
    "    df[len_size_col] = string_size_list\n",
    "\n",
    "    return df"
   ]
  },
  {
   "cell_type": "code",
   "execution_count": 70,
   "id": "d5bd93d6",
   "metadata": {},
   "outputs": [],
   "source": [
    "# Small function to get the index with the biggest string lengths\n",
    "def get_index_w_biggest_len(df, col, str_length):\n",
    "    # Return the index\n",
    "    return df[df[col] == str_length].index"
   ]
  },
  {
   "cell_type": "code",
   "execution_count": 71,
   "id": "a0805646",
   "metadata": {},
   "outputs": [],
   "source": [
    "# Small function to confirm the content of the string\n",
    "def string_content(df, col, idx):\n",
    "    return df[col][idx]"
   ]
  },
  {
   "cell_type": "markdown",
   "id": "deca90d5",
   "metadata": {},
   "source": [
    "ORIGINAL PROBLEMS GOOGLE FORM EXTRACTION"
   ]
  },
  {
   "cell_type": "code",
   "execution_count": 72,
   "id": "1749ceed",
   "metadata": {},
   "outputs": [],
   "source": [
    "# Create the pattern to extract the original problems\n",
    "original_problems_pattern = r'experienced with the original unit:\\s*(.*?)(?=DTCs present with original)'"
   ]
  },
  {
   "cell_type": "code",
   "execution_count": 73,
   "id": "b204cdef",
   "metadata": {},
   "outputs": [],
   "source": [
    "# Call the function to extract the original problems\n",
    "df_original_problems_extracted = extract_information(df_prescre_googl_form_dropped_col_idx, original_problems_pattern, 'Original Problems', 'Original Problems Len')"
   ]
  },
  {
   "cell_type": "markdown",
   "id": "7426a0f9",
   "metadata": {},
   "source": [
    "### Checking the content of the biggest string and confirm if the field string were not extracted."
   ]
  },
  {
   "cell_type": "code",
   "execution_count": 74,
   "id": "3d882c71",
   "metadata": {},
   "outputs": [
    {
     "data": {
      "text/plain": [
       "Original Problems Len\n",
       "34     11\n",
       "8      10\n",
       "33      9\n",
       "19      8\n",
       "12      7\n",
       "       ..\n",
       "60      1\n",
       "70      1\n",
       "93      1\n",
       "163     1\n",
       "111     1\n",
       "Name: count, Length: 97, dtype: int64"
      ]
     },
     "execution_count": 74,
     "metadata": {},
     "output_type": "execute_result"
    }
   ],
   "source": [
    "# Show an ascending stat with the original problems string length\n",
    "df_original_problems_extracted['Original Problems Len'].value_counts()"
   ]
  },
  {
   "cell_type": "markdown",
   "id": "2b4c3188",
   "metadata": {},
   "source": [
    "## Samples with the biggest string lengths"
   ]
  },
  {
   "cell_type": "code",
   "execution_count": 75,
   "id": "94dcbd92",
   "metadata": {},
   "outputs": [],
   "source": [
    "# List with the biggest strings\n",
    "orig_pro_biggest_strings_list = []"
   ]
  },
  {
   "cell_type": "code",
   "execution_count": 76,
   "id": "c4ae6ddd",
   "metadata": {},
   "outputs": [],
   "source": [
    "orig_pro_biggest_strings_list.append(get_index_w_biggest_len(df_original_problems_extracted, 'Original Problems Len', 70))"
   ]
  },
  {
   "cell_type": "code",
   "execution_count": 77,
   "id": "c2ad42aa",
   "metadata": {},
   "outputs": [],
   "source": [
    "orig_pro_biggest_strings_list.append(get_index_w_biggest_len(df_original_problems_extracted, 'Original Problems Len', 93))"
   ]
  },
  {
   "cell_type": "code",
   "execution_count": 78,
   "id": "a584d4bc",
   "metadata": {},
   "outputs": [],
   "source": [
    "orig_pro_biggest_strings_list.append(get_index_w_biggest_len(df_original_problems_extracted, 'Original Problems Len', 163))"
   ]
  },
  {
   "cell_type": "code",
   "execution_count": 79,
   "id": "621329d1",
   "metadata": {},
   "outputs": [],
   "source": [
    "orig_pro_biggest_strings_list.append(get_index_w_biggest_len(df_original_problems_extracted, 'Original Problems Len', 111))"
   ]
  },
  {
   "cell_type": "code",
   "execution_count": 80,
   "id": "819af139",
   "metadata": {},
   "outputs": [
    {
     "data": {
      "text/plain": [
       "[Index([8035], dtype='int64'),\n",
       " Index([8349], dtype='int64'),\n",
       " Index([8352], dtype='int64'),\n",
       " Index([8387], dtype='int64')]"
      ]
     },
     "execution_count": 80,
     "metadata": {},
     "output_type": "execute_result"
    }
   ],
   "source": [
    "# Print the list with the biggest strings appended\n",
    "orig_pro_biggest_strings_list"
   ]
  },
  {
   "cell_type": "markdown",
   "id": "6b99684b",
   "metadata": {},
   "source": [
    "## Check the content of the string to confirm if the form fields were not extracted"
   ]
  },
  {
   "cell_type": "code",
   "execution_count": 81,
   "id": "1ccb59bd",
   "metadata": {},
   "outputs": [
    {
     "data": {
      "text/plain": [
       "'no start, fuse# 14blown,  no signal from halo around the ignition area'"
      ]
     },
     "execution_count": 81,
     "metadata": {},
     "output_type": "execute_result"
    }
   ],
   "source": [
    "string_content(df_original_problems_extracted, 'Original Problems', 8035)"
   ]
  },
  {
   "cell_type": "code",
   "execution_count": 82,
   "id": "09e98e86",
   "metadata": {},
   "outputs": [
    {
     "data": {
      "text/plain": [
       "'Unit would start and stall, It would shut down while running, occasionally it will only crank'"
      ]
     },
     "execution_count": 82,
     "metadata": {},
     "output_type": "execute_result"
    }
   ],
   "source": [
    "string_content(df_original_problems_extracted, 'Original Problems', 8349)"
   ]
  },
  {
   "cell_type": "code",
   "execution_count": 83,
   "id": "e68cdaf0",
   "metadata": {},
   "outputs": [
    {
     "data": {
      "text/plain": [
       "'The original computer wound set multiple codes randomly and intermittently. It would run fine and all of a sudden it would just start idle surging and other stuff.'"
      ]
     },
     "execution_count": 83,
     "metadata": {},
     "output_type": "execute_result"
    }
   ],
   "source": [
    "string_content(df_original_problems_extracted, 'Original Problems', 8352)"
   ]
  },
  {
   "cell_type": "code",
   "execution_count": 84,
   "id": "16031637",
   "metadata": {},
   "outputs": [
    {
     "data": {
      "text/plain": [
       "'No start, no spark andno injector, no check engine light, but when you turn on the key, themain relay comes on.'"
      ]
     },
     "execution_count": 84,
     "metadata": {},
     "output_type": "execute_result"
    }
   ],
   "source": [
    "string_content(df_original_problems_extracted, 'Original Problems', 8387)"
   ]
  },
  {
   "cell_type": "markdown",
   "id": "ccf2ce76",
   "metadata": {},
   "source": [
    "## Content of the original problems extracted are correct"
   ]
  },
  {
   "cell_type": "markdown",
   "id": "7decfd9a",
   "metadata": {},
   "source": [
    "ORIGINAL DTCs GOOGLE FORM EXTRACTION"
   ]
  },
  {
   "cell_type": "code",
   "execution_count": 85,
   "id": "aba4739a",
   "metadata": {},
   "outputs": [],
   "source": [
    "# Create the pattern to extract the original DTCs\n",
    "original_dtcs_pattern = r'DTCs present with original unit:(.*?)(?=Problem\\(s\\) experienced with the unit we)'"
   ]
  },
  {
   "cell_type": "code",
   "execution_count": 86,
   "id": "4e7c1a2e",
   "metadata": {},
   "outputs": [],
   "source": [
    "# Call the function to extract the original DTCs\n",
    "df_original_dtcs_extracted = extract_information(df_prescre_googl_form_dropped_col_idx, original_dtcs_pattern, 'Original DTCs', 'Orig. DTCs Len')"
   ]
  },
  {
   "cell_type": "code",
   "execution_count": 87,
   "id": "765ad998",
   "metadata": {},
   "outputs": [
    {
     "data": {
      "text/plain": [
       "Orig. DTCs Len\n",
       "12     49\n",
       "4      14\n",
       "18     11\n",
       "7      10\n",
       "17      8\n",
       "       ..\n",
       "289     1\n",
       "19      1\n",
       "96      1\n",
       "489     1\n",
       "452     1\n",
       "Name: count, Length: 89, dtype: int64"
      ]
     },
     "execution_count": 87,
     "metadata": {},
     "output_type": "execute_result"
    }
   ],
   "source": [
    "# Show an ascending stat with the original dtcs string length\n",
    "df_original_dtcs_extracted['Orig. DTCs Len'].value_counts()"
   ]
  },
  {
   "cell_type": "markdown",
   "id": "5808cdb9",
   "metadata": {},
   "source": [
    "## Samples with the biggest string lengths: ORIGINAL DTCs"
   ]
  },
  {
   "cell_type": "code",
   "execution_count": 88,
   "id": "b22c3745",
   "metadata": {},
   "outputs": [],
   "source": [
    "# List with the biggest strings\n",
    "list_w_biggest_strings_orig_dtcs = []"
   ]
  },
  {
   "cell_type": "code",
   "execution_count": 89,
   "id": "e8e546fe",
   "metadata": {},
   "outputs": [],
   "source": [
    "list_w_biggest_strings_orig_dtcs.append(get_index_w_biggest_len(df_original_dtcs_extracted, 'Orig. DTCs Len', 289))"
   ]
  },
  {
   "cell_type": "code",
   "execution_count": 90,
   "id": "731c8a17",
   "metadata": {},
   "outputs": [],
   "source": [
    "list_w_biggest_strings_orig_dtcs.append(get_index_w_biggest_len(df_original_dtcs_extracted, 'Orig. DTCs Len', 489))"
   ]
  },
  {
   "cell_type": "code",
   "execution_count": 91,
   "id": "34e866a5",
   "metadata": {},
   "outputs": [],
   "source": [
    "list_w_biggest_strings_orig_dtcs.append(get_index_w_biggest_len(df_original_dtcs_extracted, 'Orig. DTCs Len', 452))"
   ]
  },
  {
   "cell_type": "code",
   "execution_count": 92,
   "id": "01f991f9",
   "metadata": {},
   "outputs": [],
   "source": [
    "list_w_biggest_strings_orig_dtcs.append(get_index_w_biggest_len(df_original_dtcs_extracted, 'Orig. DTCs Len', 86))"
   ]
  },
  {
   "cell_type": "code",
   "execution_count": 93,
   "id": "038a298a",
   "metadata": {},
   "outputs": [
    {
     "data": {
      "text/plain": [
       "[Index([8172], dtype='int64'),\n",
       " Index([8352], dtype='int64'),\n",
       " Index([8354], dtype='int64'),\n",
       " Index([4198], dtype='int64')]"
      ]
     },
     "execution_count": 93,
     "metadata": {},
     "output_type": "execute_result"
    }
   ],
   "source": [
    "# Print the list with the biggest strings appended\n",
    "list_w_biggest_strings_orig_dtcs"
   ]
  },
  {
   "cell_type": "markdown",
   "id": "22a8499f",
   "metadata": {},
   "source": [
    "## Check the content of the string to confirm if the form fields were not extracted"
   ]
  },
  {
   "cell_type": "code",
   "execution_count": 94,
   "id": "30c0ab31",
   "metadata": {},
   "outputs": [
    {
     "data": {
      "text/plain": [
       "'p0714 Transmission Fluid Temperature Sensor \"A\" Circuit Intermittent, p0218 Transmission over temperature condition, p0706 Transmission Range Sensor \"A\" Circuit RangePerformance, p1604 PCM Internal Dual-Port RAM ReadWrite Integrity Failure, p0700  Transmission Control System (MIL Request)'"
      ]
     },
     "execution_count": 94,
     "metadata": {},
     "output_type": "execute_result"
    }
   ],
   "source": [
    "string_content(df_original_dtcs_extracted, 'Original DTCs', 8172)"
   ]
  },
  {
   "cell_type": "code",
   "execution_count": 95,
   "id": "f0169006",
   "metadata": {},
   "outputs": [
    {
     "data": {
      "text/plain": [
       "'P2229 Barometric Pressure Sensor \"A\" Circuit HighP0050 HO2S Heater Control Circuit (Bank 2 Sensor 1)P0051 HO2S Heater Control Circuit Low (Bank 2 Sensor 1)P0097 Intake Air Temperature Sensor 2 Circuit Low Bank 1P00F4 Intake Air Humidity Sensor Circuit Low VoltageP0102 Mass or Volume Air Flow \"A\" Circuit Low InputP0113 Intake Air Temperature Circuit High Input Bank 1P0155 02 Sensor Heater Circuit Malfunction (Bank 2 Sensor 1)P2227 Barometric Pressure Sensor \"A\" Circuit RangePerformance'"
      ]
     },
     "execution_count": 95,
     "metadata": {},
     "output_type": "execute_result"
    }
   ],
   "source": [
    "string_content(df_original_dtcs_extracted, 'Original DTCs', 8352)"
   ]
  },
  {
   "cell_type": "code",
   "execution_count": 96,
   "id": "2c548e01",
   "metadata": {},
   "outputs": [
    {
     "data": {
      "text/plain": [
       "'PO443 Evaporative Emission Control System Purge Control Valve CircuitP3443 Cylinder 6 DeactivationIntake Valve Control Circuit LowP3419 Cylinder 3 DeactivationIntake Valve Control Circuit LowP0485 Cooling Fan PowerGround Circuit MalfunctionP0051 HO2S Heater Control Circuit Low (Bank 2 Sensor 1)P0050 HO2S Heater Control Circuit (Bank 2 Sensor 1)P0031 HO2S Heater Control Circuit Low (Bank 1 Sensor 1)P0030 HO2S Heater Control Circuit (Bank 1 Sensor 1)'"
      ]
     },
     "execution_count": 96,
     "metadata": {},
     "output_type": "execute_result"
    }
   ],
   "source": [
    "string_content(df_original_dtcs_extracted, 'Original DTCs', 8354)"
   ]
  },
  {
   "cell_type": "code",
   "execution_count": 97,
   "id": "5090d924",
   "metadata": {},
   "outputs": [
    {
     "data": {
      "text/plain": [
       "'P0128 Coolant Thermostat (Coolant Temperature Below Thermostat Regulating Temperature)'"
      ]
     },
     "execution_count": 97,
     "metadata": {},
     "output_type": "execute_result"
    }
   ],
   "source": [
    "string_content(df_original_dtcs_extracted, 'Original DTCs', 4198)"
   ]
  },
  {
   "cell_type": "markdown",
   "id": "c7b13c90",
   "metadata": {},
   "source": [
    "## Content of the original dtcs extracted are correct"
   ]
  },
  {
   "cell_type": "markdown",
   "id": "8f8b5b63",
   "metadata": {},
   "source": [
    "FS1 ECU PROBLEMS GOOGLE FORM EXTRACTION"
   ]
  },
  {
   "cell_type": "code",
   "execution_count": 98,
   "id": "ad3be362",
   "metadata": {},
   "outputs": [],
   "source": [
    "# Create the pattern to extract the fs1 problems\n",
    "fs1_problems_pattern = r'Problem\\(s\\) experienced with the unit we\\'ve provided(.*?)(?=DTCs present with unit we)'"
   ]
  },
  {
   "cell_type": "code",
   "execution_count": 99,
   "id": "f08c95f4",
   "metadata": {},
   "outputs": [],
   "source": [
    "# Call the function to extract the FS1 ECU problems\n",
    "df_fs1_problems_extracted = extract_information(df_prescre_googl_form_dropped_col_idx, fs1_problems_pattern, 'FS1 ECU Problems', 'FS1 Problems Len')"
   ]
  },
  {
   "cell_type": "code",
   "execution_count": 100,
   "id": "51abb29e",
   "metadata": {},
   "outputs": [
    {
     "data": {
      "text/plain": [
       "FS1 Problems Len\n",
       "19     11\n",
       "8       8\n",
       "42      8\n",
       "32      7\n",
       "39      7\n",
       "       ..\n",
       "115     1\n",
       "79      1\n",
       "147     1\n",
       "10      1\n",
       "152     1\n",
       "Name: count, Length: 104, dtype: int64"
      ]
     },
     "execution_count": 100,
     "metadata": {},
     "output_type": "execute_result"
    }
   ],
   "source": [
    "# Show an ascending stat with the fs1 comp. problems string length\n",
    "df_fs1_problems_extracted['FS1 Problems Len'].value_counts()"
   ]
  },
  {
   "cell_type": "markdown",
   "id": "ebda4e7d",
   "metadata": {},
   "source": [
    "## Samples with the biggest string lengths"
   ]
  },
  {
   "cell_type": "code",
   "execution_count": 101,
   "id": "8c30ed3c",
   "metadata": {},
   "outputs": [],
   "source": [
    "# List with the biggest strings\n",
    "list_w_biggest_strings_fs1_problems = []"
   ]
  },
  {
   "cell_type": "code",
   "execution_count": 102,
   "id": "4847d62e",
   "metadata": {},
   "outputs": [],
   "source": [
    "list_w_biggest_strings_fs1_problems.append(get_index_w_biggest_len(df_fs1_problems_extracted, 'FS1 Problems Len', 115))"
   ]
  },
  {
   "cell_type": "code",
   "execution_count": 103,
   "id": "b0a6bf7c",
   "metadata": {},
   "outputs": [],
   "source": [
    "list_w_biggest_strings_fs1_problems.append(get_index_w_biggest_len(df_fs1_problems_extracted, 'FS1 Problems Len', 79))"
   ]
  },
  {
   "cell_type": "code",
   "execution_count": 104,
   "id": "fdb02f04",
   "metadata": {},
   "outputs": [],
   "source": [
    "list_w_biggest_strings_fs1_problems.append(get_index_w_biggest_len(df_fs1_problems_extracted, 'FS1 Problems Len', 147))"
   ]
  },
  {
   "cell_type": "code",
   "execution_count": 105,
   "id": "ed6e3175",
   "metadata": {},
   "outputs": [],
   "source": [
    "list_w_biggest_strings_fs1_problems.append(get_index_w_biggest_len(df_fs1_problems_extracted, 'FS1 Problems Len', 152))"
   ]
  },
  {
   "cell_type": "code",
   "execution_count": 106,
   "id": "665f7774",
   "metadata": {},
   "outputs": [
    {
     "data": {
      "text/plain": [
       "[Index([7204], dtype='int64'),\n",
       " Index([8154], dtype='int64'),\n",
       " Index([8159], dtype='int64'),\n",
       " Index([8387], dtype='int64')]"
      ]
     },
     "execution_count": 106,
     "metadata": {},
     "output_type": "execute_result"
    }
   ],
   "source": [
    "# Print the list with the biggest strings appended\n",
    "list_w_biggest_strings_fs1_problems"
   ]
  },
  {
   "cell_type": "markdown",
   "id": "49a6e197",
   "metadata": {},
   "source": [
    "### Checking the content of the biggest string and confirm if the field string were not extracted."
   ]
  },
  {
   "cell_type": "code",
   "execution_count": 107,
   "id": "fc4aa085",
   "metadata": {},
   "outputs": [
    {
     "data": {
      "text/plain": [
       "'Charging System,alternator is charging only 11.9 volts. Check engine light and checkgauges message on the dashboard'"
      ]
     },
     "execution_count": 107,
     "metadata": {},
     "output_type": "execute_result"
    }
   ],
   "source": [
    "string_content(df_fs1_problems_extracted, 'FS1 ECU Problems', 7204)"
   ]
  },
  {
   "cell_type": "code",
   "execution_count": 108,
   "id": "de2e37ca",
   "metadata": {},
   "outputs": [
    {
     "data": {
      "text/plain": [
       "'a key relearn was performed, unknow which one, they could not program the keys.'"
      ]
     },
     "execution_count": 108,
     "metadata": {},
     "output_type": "execute_result"
    }
   ],
   "source": [
    "string_content(df_fs1_problems_extracted, 'FS1 ECU Problems', 8154)"
   ]
  },
  {
   "cell_type": "code",
   "execution_count": 109,
   "id": "59d1b252",
   "metadata": {},
   "outputs": [
    {
     "data": {
      "text/plain": [
       "'ImmobilizerSecurity, a key relearn was performed, the vehicle does not start. They plugged back the original computer, the vehicle starts right up.'"
      ]
     },
     "execution_count": 109,
     "metadata": {},
     "output_type": "execute_result"
    }
   ],
   "source": [
    "string_content(df_fs1_problems_extracted, 'FS1 ECU Problems', 8159)"
   ]
  },
  {
   "cell_type": "code",
   "execution_count": 110,
   "id": "57ee1f1b",
   "metadata": {},
   "outputs": [
    {
     "data": {
      "text/plain": [
       "'No response fromthe new module, it would not even turn on the main relay. When thecustomer jumps the main relay it has ignition but code for VINmismatch'"
      ]
     },
     "execution_count": 110,
     "metadata": {},
     "output_type": "execute_result"
    }
   ],
   "source": [
    "string_content(df_fs1_problems_extracted, 'FS1 ECU Problems', 8387)"
   ]
  },
  {
   "cell_type": "markdown",
   "id": "b21f5071",
   "metadata": {},
   "source": [
    "## Content of the fs1 ecu problems extracted are correct"
   ]
  },
  {
   "cell_type": "markdown",
   "id": "f6416744",
   "metadata": {},
   "source": [
    "FS1 ECU DTCs GOOGLE FORM EXTRACTION"
   ]
  },
  {
   "cell_type": "code",
   "execution_count": 111,
   "id": "3695a5e2",
   "metadata": {},
   "outputs": [],
   "source": [
    "# Create the pattern to extract the fs1 module dtcs\n",
    "fs1_dtcs_pattern = r'DTCs present with unit we\\'ve provided(.*?)(?=Are the original and current problems related)'"
   ]
  },
  {
   "cell_type": "code",
   "execution_count": 112,
   "id": "71d4d6f6",
   "metadata": {},
   "outputs": [],
   "source": [
    "# Call the function to extract the FS1 ECU DTCs\n",
    "df_fs1_dtcs_extracted = extract_information(df_prescre_googl_form_dropped_col_idx, fs1_dtcs_pattern, 'FS1 ECU DTCs', 'FS1 DTCs Len')"
   ]
  },
  {
   "cell_type": "code",
   "execution_count": 113,
   "id": "f4dd4181",
   "metadata": {},
   "outputs": [
    {
     "data": {
      "text/plain": [
       "FS1 DTCs Len\n",
       "12     44\n",
       "99     15\n",
       "8      11\n",
       "17      9\n",
       "7       8\n",
       "       ..\n",
       "109     1\n",
       "166     1\n",
       "213     1\n",
       "116     1\n",
       "236     1\n",
       "Name: count, Length: 98, dtype: int64"
      ]
     },
     "execution_count": 113,
     "metadata": {},
     "output_type": "execute_result"
    }
   ],
   "source": [
    "# Show an ascending stat with the fs1 comp. problems string length\n",
    "df_fs1_dtcs_extracted['FS1 DTCs Len'].value_counts()"
   ]
  },
  {
   "cell_type": "markdown",
   "id": "3540a096",
   "metadata": {},
   "source": [
    "## Samples with the biggest string lengths"
   ]
  },
  {
   "cell_type": "code",
   "execution_count": 114,
   "id": "b1592b54",
   "metadata": {},
   "outputs": [],
   "source": [
    "# List with the biggest strings\n",
    "list_w_biggest_strings_fs1_dtcs = []"
   ]
  },
  {
   "cell_type": "code",
   "execution_count": 115,
   "id": "4b62830a",
   "metadata": {},
   "outputs": [],
   "source": [
    "list_w_biggest_strings_fs1_dtcs.append(get_index_w_biggest_len(df_fs1_dtcs_extracted, 'FS1 DTCs Len', 166))"
   ]
  },
  {
   "cell_type": "code",
   "execution_count": 116,
   "id": "4a9436c5",
   "metadata": {},
   "outputs": [],
   "source": [
    "list_w_biggest_strings_fs1_dtcs.append(get_index_w_biggest_len(df_fs1_dtcs_extracted, 'FS1 DTCs Len', 213))"
   ]
  },
  {
   "cell_type": "code",
   "execution_count": 117,
   "id": "af349f58",
   "metadata": {},
   "outputs": [],
   "source": [
    "list_w_biggest_strings_fs1_dtcs.append(get_index_w_biggest_len(df_fs1_dtcs_extracted, 'FS1 DTCs Len', 236))"
   ]
  },
  {
   "cell_type": "code",
   "execution_count": 118,
   "id": "334f1652",
   "metadata": {},
   "outputs": [],
   "source": [
    "list_w_biggest_strings_fs1_dtcs.append(get_index_w_biggest_len(df_fs1_dtcs_extracted, 'FS1 DTCs Len', 116))"
   ]
  },
  {
   "cell_type": "code",
   "execution_count": 119,
   "id": "9ff8a8c2",
   "metadata": {},
   "outputs": [
    {
     "data": {
      "text/plain": [
       "[Index([8163], dtype='int64'),\n",
       " Index([8280], dtype='int64'),\n",
       " Index([8354], dtype='int64'),\n",
       " Index([8349], dtype='int64')]"
      ]
     },
     "execution_count": 119,
     "metadata": {},
     "output_type": "execute_result"
    }
   ],
   "source": [
    "# Print the list with the biggest strings appended\n",
    "list_w_biggest_strings_fs1_dtcs"
   ]
  },
  {
   "cell_type": "markdown",
   "id": "a32abf35",
   "metadata": {},
   "source": [
    "### Checking the content of the biggest string and confirm if the field string were not extracted."
   ]
  },
  {
   "cell_type": "code",
   "execution_count": 120,
   "id": "190e6af5",
   "metadata": {},
   "outputs": [
    {
     "data": {
      "text/plain": [
       "'P0315 Crankshaft Position System Variation Not LearnedP057DP0633 Immobilizer Key Not Programmed – ECMPCMP135B'"
      ]
     },
     "execution_count": 120,
     "metadata": {},
     "output_type": "execute_result"
    }
   ],
   "source": [
    "string_content(df_fs1_dtcs_extracted, 'FS1 ECU DTCs', 8157)"
   ]
  },
  {
   "cell_type": "code",
   "execution_count": 121,
   "id": "c92e8d29",
   "metadata": {},
   "outputs": [
    {
     "data": {
      "text/plain": [
       "'B1325 Device Power Circuit VoltageP0301 Cylinder 1 Misfire DetectedP0315 Crankshaft Position System Variation Not LearnedP0633 Immobilizer Key Not Programmed – ECMPCM'"
      ]
     },
     "execution_count": 121,
     "metadata": {},
     "output_type": "execute_result"
    }
   ],
   "source": [
    "string_content(df_fs1_dtcs_extracted, 'FS1 ECU DTCs', 8163)"
   ]
  },
  {
   "cell_type": "code",
   "execution_count": 122,
   "id": "f9915469",
   "metadata": {},
   "outputs": [
    {
     "data": {
      "text/plain": [
       "'P0315 Crankshaft Position System Variation Not LearnedP0056 HO2S Heater Control Circuit (Bank 2 Sensor 2)P0057 HO2S Heater Control Circuit Low (Bank 2 Sensor 2)P0157 02 Sensor Circuit Low Voltage (Bank 2 Sensor 2)'"
      ]
     },
     "execution_count": 122,
     "metadata": {},
     "output_type": "execute_result"
    }
   ],
   "source": [
    "string_content(df_fs1_dtcs_extracted, 'FS1 ECU DTCs', 8280)"
   ]
  },
  {
   "cell_type": "code",
   "execution_count": 123,
   "id": "02987a32",
   "metadata": {},
   "outputs": [
    {
     "data": {
      "text/plain": [
       "'P0315 Crankshaft Position System Variation Not LearnedP0443 Evaporative Emission Control System Purge Control Valve CircuitP0458 Evaporative Emission System Purge Control Valve Circuit LowP06DB Engine Oil Pressure Control Solenoid Valve'"
      ]
     },
     "execution_count": 123,
     "metadata": {},
     "output_type": "execute_result"
    }
   ],
   "source": [
    "string_content(df_fs1_dtcs_extracted, 'FS1 ECU DTCs', 8354)"
   ]
  },
  {
   "cell_type": "markdown",
   "id": "3d977e80",
   "metadata": {},
   "source": [
    "## Content of the fs1 ecu dtcs extracted are correct"
   ]
  },
  {
   "cell_type": "markdown",
   "id": "8f6ace0a",
   "metadata": {},
   "source": [
    "ORIGINAL AND FS1 ECU RELATED GOOGLE FORM EXTRACTION"
   ]
  },
  {
   "cell_type": "code",
   "execution_count": 124,
   "id": "918754ff",
   "metadata": {},
   "outputs": [],
   "source": [
    "# Create the pattern to extract the original and fs1 module problems related\n",
    "orig_fs1_problems_related_pattern = r'Are the original and current problems related\\?(.*?)(?=Were the appropriate diagnostic steps followed)'"
   ]
  },
  {
   "cell_type": "code",
   "execution_count": 125,
   "id": "e7058406",
   "metadata": {},
   "outputs": [],
   "source": [
    "# Call the function to extract the problems related answer\n",
    "df_orig_fs1_problems_related_extracted = extract_information(df_prescre_googl_form_dropped_col_idx, orig_fs1_problems_related_pattern, 'Orig. FS1 Problems Related', 'Orig. FS1 Problems Related Len')"
   ]
  },
  {
   "cell_type": "code",
   "execution_count": 126,
   "id": "635f2032",
   "metadata": {},
   "outputs": [
    {
     "data": {
      "text/plain": [
       "Orig. FS1 Problems Related Len\n",
       "2    211\n",
       "9     31\n",
       "3     20\n",
       "Name: count, dtype: int64"
      ]
     },
     "execution_count": 126,
     "metadata": {},
     "output_type": "execute_result"
    }
   ],
   "source": [
    "# Show an ascending stat with the problems related answer\n",
    "df_orig_fs1_problems_related_extracted['Orig. FS1 Problems Related Len'].value_counts()"
   ]
  },
  {
   "cell_type": "markdown",
   "id": "b3dbaf37",
   "metadata": {},
   "source": [
    "## Samples with the biggest string lengths"
   ]
  },
  {
   "cell_type": "code",
   "execution_count": 127,
   "id": "e475f34f",
   "metadata": {},
   "outputs": [],
   "source": [
    "# List with the biggest strings\n",
    "list_w_biggest_strings_orig_fs1_problems_related = []"
   ]
  },
  {
   "cell_type": "code",
   "execution_count": 128,
   "id": "770247ab",
   "metadata": {},
   "outputs": [],
   "source": [
    "list_w_biggest_strings_orig_fs1_problems_related.append(get_index_w_biggest_len(df_orig_fs1_problems_related_extracted, 'Orig. FS1 Problems Related Len', 2))"
   ]
  },
  {
   "cell_type": "code",
   "execution_count": 129,
   "id": "883515dd",
   "metadata": {},
   "outputs": [],
   "source": [
    "list_w_biggest_strings_orig_fs1_problems_related.append(get_index_w_biggest_len(df_orig_fs1_problems_related_extracted, 'Orig. FS1 Problems Related Len', 9))"
   ]
  },
  {
   "cell_type": "code",
   "execution_count": 130,
   "id": "5438d538",
   "metadata": {},
   "outputs": [],
   "source": [
    "list_w_biggest_strings_orig_fs1_problems_related.append(get_index_w_biggest_len(df_orig_fs1_problems_related_extracted, 'Orig. FS1 Problems Related Len', 3))"
   ]
  },
  {
   "cell_type": "code",
   "execution_count": 131,
   "id": "7f8b9e29",
   "metadata": {},
   "outputs": [
    {
     "data": {
      "text/plain": [
       "[Index([   6,    7,   25,   29,   31,   54,   57,   58,   59,   71,\n",
       "        ...\n",
       "        8310, 8314, 8323, 8324, 8348, 8349, 8352, 8354, 8362, 8387],\n",
       "       dtype='int64', length=211),\n",
       " Index([  23, 1359, 1508, 1679, 1894, 2084, 2145, 2320, 2466, 2701, 3775, 4108,\n",
       "        4192, 4278, 4320, 4331, 4356, 4358, 4410, 4988, 6234, 6272, 6422, 6435,\n",
       "        6450, 7458, 7593, 7892, 8153, 8172, 8322],\n",
       "       dtype='int64'),\n",
       " Index([ 290,  641, 1444, 1762, 2087, 2184, 2194, 3724, 3835, 4200, 4322, 4828,\n",
       "        5249, 6159, 6333, 6427, 6436, 6863, 6968, 8041],\n",
       "       dtype='int64')]"
      ]
     },
     "execution_count": 131,
     "metadata": {},
     "output_type": "execute_result"
    }
   ],
   "source": [
    "# Print the list with the biggest strings appended\n",
    "list_w_biggest_strings_orig_fs1_problems_related"
   ]
  },
  {
   "cell_type": "markdown",
   "id": "908293f8",
   "metadata": {},
   "source": [
    "### Checking the content of the biggest string and confirm if the field string were not extracted."
   ]
  },
  {
   "cell_type": "code",
   "execution_count": 132,
   "id": "b6b33985",
   "metadata": {},
   "outputs": [
    {
     "data": {
      "text/plain": [
       "'No'"
      ]
     },
     "execution_count": 132,
     "metadata": {},
     "output_type": "execute_result"
    }
   ],
   "source": [
    "string_content(df_orig_fs1_problems_related_extracted, 'Orig. FS1 Problems Related', 6)"
   ]
  },
  {
   "cell_type": "code",
   "execution_count": 133,
   "id": "1441209b",
   "metadata": {},
   "outputs": [
    {
     "data": {
      "text/plain": [
       "'Uncertain'"
      ]
     },
     "execution_count": 133,
     "metadata": {},
     "output_type": "execute_result"
    }
   ],
   "source": [
    "string_content(df_orig_fs1_problems_related_extracted, 'Orig. FS1 Problems Related', 1359)"
   ]
  },
  {
   "cell_type": "code",
   "execution_count": 134,
   "id": "87da2f57",
   "metadata": {},
   "outputs": [
    {
     "data": {
      "text/plain": [
       "'Yes'"
      ]
     },
     "execution_count": 134,
     "metadata": {},
     "output_type": "execute_result"
    }
   ],
   "source": [
    "string_content(df_orig_fs1_problems_related_extracted, 'Orig. FS1 Problems Related', 1444)"
   ]
  },
  {
   "cell_type": "markdown",
   "id": "ec19708e",
   "metadata": {},
   "source": [
    "## Content of the Orig. FS1 Problems Related extracted are correct"
   ]
  },
  {
   "cell_type": "markdown",
   "id": "b8cdc8a9",
   "metadata": {},
   "source": [
    "ADDITIONAL NOTES GOOGLE FORM EXTRACTION"
   ]
  },
  {
   "cell_type": "code",
   "execution_count": 135,
   "id": "35dbc5e5",
   "metadata": {},
   "outputs": [],
   "source": [
    "# Create the pattern to extract the additional notes\n",
    "additional_notes_pattern = r'Additional Notes:\\s*(.*?)(?=Resolution)'"
   ]
  },
  {
   "cell_type": "code",
   "execution_count": 136,
   "id": "b3c56b31",
   "metadata": {},
   "outputs": [],
   "source": [
    "# Call the function to extract the additional notes\n",
    "df_additional_notes_extracted = extract_information(df_prescre_googl_form_dropped_col_idx, additional_notes_pattern, \"Additional Notes\", \"Additional Notes Len\")"
   ]
  },
  {
   "cell_type": "markdown",
   "id": "c84e66e9",
   "metadata": {},
   "source": [
    "### Checking the content of the biggest string and confirm if the field string were not extracted."
   ]
  },
  {
   "cell_type": "code",
   "execution_count": 137,
   "id": "12d2abcf",
   "metadata": {},
   "outputs": [
    {
     "data": {
      "text/plain": [
       "Additional Notes Len\n",
       "0      96\n",
       "40      4\n",
       "3       3\n",
       "42      3\n",
       "80      3\n",
       "       ..\n",
       "164     1\n",
       "50      1\n",
       "100     1\n",
       "86      1\n",
       "183     1\n",
       "Name: count, Length: 130, dtype: int64"
      ]
     },
     "execution_count": 137,
     "metadata": {},
     "output_type": "execute_result"
    }
   ],
   "source": [
    "# Show an ascending stat with the original problems string length\n",
    "df_additional_notes_extracted['Additional Notes Len'].value_counts()"
   ]
  },
  {
   "cell_type": "markdown",
   "id": "0bd0c8eb",
   "metadata": {},
   "source": [
    "## Samples with the biggest string lengths"
   ]
  },
  {
   "cell_type": "code",
   "execution_count": 138,
   "id": "3f7c6073",
   "metadata": {},
   "outputs": [],
   "source": [
    "# List with the biggest strings\n",
    "additional_notes_biggest_strings_list = []"
   ]
  },
  {
   "cell_type": "code",
   "execution_count": 139,
   "id": "8e4836b9",
   "metadata": {},
   "outputs": [],
   "source": [
    "additional_notes_biggest_strings_list.append(get_index_w_biggest_len(df_additional_notes_extracted, \"Additional Notes Len\", 164))"
   ]
  },
  {
   "cell_type": "code",
   "execution_count": 140,
   "id": "26256a43",
   "metadata": {},
   "outputs": [],
   "source": [
    "additional_notes_biggest_strings_list.append(get_index_w_biggest_len(df_additional_notes_extracted, \"Additional Notes Len\", 100))"
   ]
  },
  {
   "cell_type": "code",
   "execution_count": 141,
   "id": "709cfb6a",
   "metadata": {},
   "outputs": [],
   "source": [
    "additional_notes_biggest_strings_list.append(get_index_w_biggest_len(df_additional_notes_extracted, \"Additional Notes Len\", 86))"
   ]
  },
  {
   "cell_type": "code",
   "execution_count": 142,
   "id": "750f94b9",
   "metadata": {},
   "outputs": [],
   "source": [
    "additional_notes_biggest_strings_list.append(get_index_w_biggest_len(df_additional_notes_extracted, \"Additional Notes Len\", 183))"
   ]
  },
  {
   "cell_type": "code",
   "execution_count": 143,
   "id": "10c916f8",
   "metadata": {},
   "outputs": [
    {
     "data": {
      "text/plain": [
       "[Index([8348], dtype='int64'),\n",
       " Index([8352], dtype='int64'),\n",
       " Index([8362], dtype='int64'),\n",
       " Index([8387], dtype='int64')]"
      ]
     },
     "execution_count": 143,
     "metadata": {},
     "output_type": "execute_result"
    }
   ],
   "source": [
    "# Print the list with the biggest strings appended\n",
    "additional_notes_biggest_strings_list"
   ]
  },
  {
   "cell_type": "markdown",
   "id": "238fb04c",
   "metadata": {},
   "source": [
    "## Check the content of the string to confirm if the form fields were not extracted"
   ]
  },
  {
   "cell_type": "code",
   "execution_count": 144,
   "id": "625486ee",
   "metadata": {},
   "outputs": [
    {
     "data": {
      "text/plain": [
       "'the current failures are unique to our ECM. This donor was used on the previous account H1116114 and it presented tachometer issues. Recommend we try a replacement.'"
      ]
     },
     "execution_count": 144,
     "metadata": {},
     "output_type": "execute_result"
    }
   ],
   "source": [
    "string_content(df_additional_notes_extracted, 'Additional Notes', 8348)"
   ]
  },
  {
   "cell_type": "code",
   "execution_count": 145,
   "id": "68a6f573",
   "metadata": {},
   "outputs": [
    {
     "data": {
      "text/plain": [
       "'this is the 2nd computer that did not work. It could be the 2nd module having the GM security issue.'"
      ]
     },
     "execution_count": 145,
     "metadata": {},
     "output_type": "execute_result"
    }
   ],
   "source": [
    "string_content(df_additional_notes_extracted, 'Additional Notes', 8352)"
   ]
  },
  {
   "cell_type": "code",
   "execution_count": 146,
   "id": "81790a3e",
   "metadata": {},
   "outputs": [
    {
     "data": {
      "text/plain": [
       "'How are the check engine and security lightsbehaving when they try the key re-learning'"
      ]
     },
     "execution_count": 146,
     "metadata": {},
     "output_type": "execute_result"
    }
   ],
   "source": [
    "string_content(df_additional_notes_extracted, 'Additional Notes', 8362)"
   ]
  },
  {
   "cell_type": "code",
   "execution_count": 147,
   "id": "9ebb912b",
   "metadata": {},
   "outputs": [
    {
     "data": {
      "text/plain": [
       "'This module was already returned for the same \"noresponse\" problem (H917859). Given this customer is premium, I wouldnot risk repairing the unit and trying again for the same customer'"
      ]
     },
     "execution_count": 147,
     "metadata": {},
     "output_type": "execute_result"
    }
   ],
   "source": [
    "string_content(df_additional_notes_extracted, 'Additional Notes', 8387)"
   ]
  },
  {
   "cell_type": "markdown",
   "id": "9b27b848",
   "metadata": {},
   "source": [
    "## Content of the additional notes extracted are correct"
   ]
  },
  {
   "cell_type": "markdown",
   "id": "3801424e",
   "metadata": {},
   "source": [
    "RESOLUTION GOOGLE FORM EXTRACTED"
   ]
  },
  {
   "cell_type": "code",
   "execution_count": 148,
   "id": "9c8ee313",
   "metadata": {},
   "outputs": [],
   "source": [
    "# Create a pattern to extract the resolution\n",
    "resolution_pattern = r'Resolution:(.*)'"
   ]
  },
  {
   "cell_type": "code",
   "execution_count": 149,
   "id": "fae6446c",
   "metadata": {},
   "outputs": [],
   "source": [
    "# Call the function to extract the resolution\n",
    "df_resolution_extracted = extract_information(df_prescre_googl_form_dropped_col_idx, resolution_pattern, 'Resolution', 'Resolution Len')"
   ]
  },
  {
   "cell_type": "markdown",
   "id": "2903f0fb",
   "metadata": {},
   "source": [
    "### Checking the content of the biggest string and confirm if the field string were not extracted."
   ]
  },
  {
   "cell_type": "code",
   "execution_count": 150,
   "id": "90f45c0a",
   "metadata": {},
   "outputs": [
    {
     "data": {
      "text/plain": [
       "Resolution Len\n",
       "33     44\n",
       "39     30\n",
       "57     27\n",
       "27     19\n",
       "54     15\n",
       "       ..\n",
       "127     1\n",
       "30      1\n",
       "713     1\n",
       "18      1\n",
       "226     1\n",
       "Name: count, Length: 99, dtype: int64"
      ]
     },
     "execution_count": 150,
     "metadata": {},
     "output_type": "execute_result"
    }
   ],
   "source": [
    "# Show an ascending stat with the original problems string length\n",
    "df_resolution_extracted['Resolution Len'].value_counts()"
   ]
  },
  {
   "cell_type": "markdown",
   "id": "8a0bfe87",
   "metadata": {},
   "source": [
    "## Samples with the biggest string lengths"
   ]
  },
  {
   "cell_type": "code",
   "execution_count": 151,
   "id": "2a24d826",
   "metadata": {},
   "outputs": [],
   "source": [
    "# List with the biggest strings\n",
    "resolution_biggest_strings_list = []"
   ]
  },
  {
   "cell_type": "code",
   "execution_count": 152,
   "id": "c7114403",
   "metadata": {},
   "outputs": [],
   "source": [
    "resolution_biggest_strings_list.append(get_index_w_biggest_len(df_resolution_extracted, \"Resolution Len\", 127))"
   ]
  },
  {
   "cell_type": "code",
   "execution_count": 153,
   "id": "7735cc32",
   "metadata": {},
   "outputs": [],
   "source": [
    "resolution_biggest_strings_list.append(get_index_w_biggest_len(df_resolution_extracted, \"Resolution Len\", 713))"
   ]
  },
  {
   "cell_type": "code",
   "execution_count": 154,
   "id": "531e9b81",
   "metadata": {},
   "outputs": [],
   "source": [
    "resolution_biggest_strings_list.append(get_index_w_biggest_len(df_resolution_extracted, \"Resolution Len\", 226))"
   ]
  },
  {
   "cell_type": "code",
   "execution_count": 155,
   "id": "19ca0a93",
   "metadata": {},
   "outputs": [
    {
     "data": {
      "text/plain": [
       "[Index([8310], dtype='int64'),\n",
       " Index([8323], dtype='int64'),\n",
       " Index([8387], dtype='int64')]"
      ]
     },
     "execution_count": 155,
     "metadata": {},
     "output_type": "execute_result"
    }
   ],
   "source": [
    "# Print the list with the biggest strings appended\n",
    "resolution_biggest_strings_list"
   ]
  },
  {
   "cell_type": "markdown",
   "id": "7af89b44",
   "metadata": {},
   "source": [
    "## Check the content of the string to confirm if the form fields were not extracted"
   ]
  },
  {
   "cell_type": "code",
   "execution_count": 156,
   "id": "a378f51b",
   "metadata": {},
   "outputs": [
    {
     "data": {
      "text/plain": [
       "'Return both the original unit and our unit, so we canverify the part numbers and clone the data from the original unit ontoours'"
      ]
     },
     "execution_count": 156,
     "metadata": {},
     "output_type": "execute_result"
    }
   ],
   "source": [
    "string_content(df_resolution_extracted, \"Resolution\", 8310)"
   ]
  },
  {
   "cell_type": "code",
   "execution_count": 157,
   "id": "8fab7b78",
   "metadata": {},
   "outputs": [
    {
     "data": {
      "text/plain": [
       "'I recommend we have the customer verify that the VIN onthe vehicle is the same as that which we have on file. If so, theyshould try to disconnect the battery for 30 minutes and repeat thePASSKEY II Key cycling procedure, before the second 10 min wait time,customer should attempt to crank the vehicle before continuing withthe next step. Customer should repeat all the steps 1-3 twice more (atotal of 3 times including the first attempt). If they do this andissue persist    Account manager should have customer send us thepicture of the sticker on the original unit, once we have thisinformation, Let us get back our unit and try sending customer areplacement unit having BCC that match that of the original unit'"
      ]
     },
     "execution_count": 157,
     "metadata": {},
     "output_type": "execute_result"
    }
   ],
   "source": [
    "string_content(df_resolution_extracted, \"Resolution\", 8323)"
   ]
  },
  {
   "cell_type": "code",
   "execution_count": 158,
   "id": "a950c172",
   "metadata": {},
   "outputs": [
    {
     "data": {
      "text/plain": [
       "'Return unit for replacement, and send this module to the testingdepartment, so we can test the main relay activation circuit (A41 pin34). Also we should make sure that the customer received dongle for Toyotaresync instructions'"
      ]
     },
     "execution_count": 158,
     "metadata": {},
     "output_type": "execute_result"
    }
   ],
   "source": [
    "string_content(df_resolution_extracted, \"Resolution\", 8387)"
   ]
  },
  {
   "cell_type": "markdown",
   "id": "bc96b9ab",
   "metadata": {},
   "source": [
    "## Content of the resolution extracted are correct"
   ]
  },
  {
   "cell_type": "code",
   "execution_count": 159,
   "id": "15f9499b",
   "metadata": {},
   "outputs": [
    {
     "name": "stdout",
     "output_type": "stream",
     "text": [
      "<class 'pandas.core.frame.DataFrame'>\n",
      "Index: 262 entries, 6 to 8387\n",
      "Data columns (total 26 columns):\n",
      " #   Column                          Non-Null Count  Dtype  \n",
      "---  ------                          --------------  -----  \n",
      " 0   Created Time                    262 non-null    object \n",
      " 1   H Number                        262 non-null    object \n",
      " 2   Entry Type                      262 non-null    object \n",
      " 3   Technician                      259 non-null    object \n",
      " 4   Source                          262 non-null    object \n",
      " 5   Year                            262 non-null    float64\n",
      " 6   Make                            262 non-null    object \n",
      " 7   Model                           262 non-null    object \n",
      " 8   Engine Size                     255 non-null    object \n",
      " 9   HW #                            236 non-null    object \n",
      " 10  Part #                          233 non-null    object \n",
      " 11  Notes                           262 non-null    object \n",
      " 12  Original Problems               262 non-null    object \n",
      " 13  Original Problems Len           262 non-null    int64  \n",
      " 14  Original DTCs                   262 non-null    object \n",
      " 15  Orig. DTCs Len                  262 non-null    int64  \n",
      " 16  FS1 ECU Problems                262 non-null    object \n",
      " 17  FS1 Problems Len                262 non-null    int64  \n",
      " 18  FS1 ECU DTCs                    262 non-null    object \n",
      " 19  FS1 DTCs Len                    262 non-null    int64  \n",
      " 20  Orig. FS1 Problems Related      262 non-null    object \n",
      " 21  Orig. FS1 Problems Related Len  262 non-null    int64  \n",
      " 22  Additional Notes                259 non-null    object \n",
      " 23  Additional Notes Len            262 non-null    int64  \n",
      " 24  Resolution                      261 non-null    object \n",
      " 25  Resolution Len                  262 non-null    int64  \n",
      "dtypes: float64(1), int64(7), object(18)\n",
      "memory usage: 63.4+ KB\n"
     ]
    }
   ],
   "source": [
    "# Check the info from the df to confirm the results after data extraction\n",
    "df_prescre_googl_form_dropped_col_idx.info()"
   ]
  },
  {
   "cell_type": "code",
   "execution_count": 160,
   "id": "de6f0b57",
   "metadata": {},
   "outputs": [],
   "source": [
    "# List to append the columns with the string length\n",
    "len_col_list = []\n",
    "\n",
    "# Loop to iterate under all columns\n",
    "for cols in df_prescre_googl_form_dropped_col_idx.columns:\n",
    "    # Find the string \"Len\" in the column\n",
    "    col_len = re.findall(\"Len\", cols)\n",
    "    # If found the column with the string \"Len\"\n",
    "    if col_len:\n",
    "        # Append to the list\n",
    "        len_col_list.append(cols)"
   ]
  },
  {
   "cell_type": "code",
   "execution_count": 161,
   "id": "8fc15fa1",
   "metadata": {},
   "outputs": [],
   "source": [
    "# Drop columns appended to the len_col_list\n",
    "df_prescre_googl_form_dropped_len_cols = df_prescre_googl_form_dropped_col_idx.drop(columns=len_col_list)"
   ]
  },
  {
   "cell_type": "code",
   "execution_count": 162,
   "id": "72402555",
   "metadata": {},
   "outputs": [
    {
     "name": "stdout",
     "output_type": "stream",
     "text": [
      "<class 'pandas.core.frame.DataFrame'>\n",
      "Index: 262 entries, 6 to 8387\n",
      "Data columns (total 19 columns):\n",
      " #   Column                      Non-Null Count  Dtype  \n",
      "---  ------                      --------------  -----  \n",
      " 0   Created Time                262 non-null    object \n",
      " 1   H Number                    262 non-null    object \n",
      " 2   Entry Type                  262 non-null    object \n",
      " 3   Technician                  259 non-null    object \n",
      " 4   Source                      262 non-null    object \n",
      " 5   Year                        262 non-null    float64\n",
      " 6   Make                        262 non-null    object \n",
      " 7   Model                       262 non-null    object \n",
      " 8   Engine Size                 255 non-null    object \n",
      " 9   HW #                        236 non-null    object \n",
      " 10  Part #                      233 non-null    object \n",
      " 11  Notes                       262 non-null    object \n",
      " 12  Original Problems           262 non-null    object \n",
      " 13  Original DTCs               262 non-null    object \n",
      " 14  FS1 ECU Problems            262 non-null    object \n",
      " 15  FS1 ECU DTCs                262 non-null    object \n",
      " 16  Orig. FS1 Problems Related  262 non-null    object \n",
      " 17  Additional Notes            259 non-null    object \n",
      " 18  Resolution                  261 non-null    object \n",
      "dtypes: float64(1), object(18)\n",
      "memory usage: 49.0+ KB\n"
     ]
    }
   ],
   "source": [
    "# Check the df info to confirm the changes\n",
    "df_prescre_googl_form_dropped_len_cols.info()"
   ]
  },
  {
   "cell_type": "code",
   "execution_count": 163,
   "id": "3d44566b",
   "metadata": {},
   "outputs": [
    {
     "name": "stdout",
     "output_type": "stream",
     "text": [
      "<class 'pandas.core.frame.DataFrame'>\n",
      "RangeIndex: 352 entries, 0 to 351\n",
      "Data columns (total 21 columns):\n",
      " #   Column                           Non-Null Count  Dtype  \n",
      "---  ------                           --------------  -----  \n",
      " 0   Created Time                     352 non-null    object \n",
      " 1   H Number                         352 non-null    object \n",
      " 2   Entry Type                       352 non-null    object \n",
      " 3   Technician                       335 non-null    object \n",
      " 4   Source                           352 non-null    object \n",
      " 5   Year                             352 non-null    float64\n",
      " 6   Make                             352 non-null    object \n",
      " 7   Model                            352 non-null    object \n",
      " 8   Engine Size                      341 non-null    object \n",
      " 9   HW #                             307 non-null    object \n",
      " 10  Part #                           339 non-null    object \n",
      " 11  Notes                            352 non-null    object \n",
      " 12  H Number True                    352 non-null    bool   \n",
      " 13  Original Problems                351 non-null    object \n",
      " 14  Original DTCs                    268 non-null    object \n",
      " 15  FS1 ECU Problems                 352 non-null    object \n",
      " 16  FS1 ECU DTCs                     270 non-null    object \n",
      " 17  Are the problems related         352 non-null    object \n",
      " 18  Diagnosed properly by Customer?  352 non-null    object \n",
      " 19  Additional Notes                 210 non-null    object \n",
      " 20  Resolution:                      352 non-null    object \n",
      "dtypes: bool(1), float64(1), object(19)\n",
      "memory usage: 55.5+ KB\n"
     ]
    }
   ],
   "source": [
    "# Check the info from the df merged with the secondary df and the main df\n",
    "df_main_sec_merged.info()"
   ]
  },
  {
   "cell_type": "markdown",
   "id": "e3c1255e",
   "metadata": {},
   "source": [
    "### **📊 FINAL DATA CONSOLIDATION**\n",
    "\n",
    "#### **🔄 CONSOLIDATION WORKFLOW**\n",
    "\n",
    "Two cleaned Google Form datasets require merging:\n",
    "\n",
    "1. **`df_main_sec_merged`**: Data merged with secondary Excel spreadsheet\n",
    "2. **`df_prescre_googl_form_dropped_len_cols`**: Data extracted via regex patterns\n",
    "3. **`df_zoho_form_cleaned_renamed_columns`**: Zoho form data cleaned \n",
    "\n",
    "\n",
    "**Outcome**: Single unified dataset ready for analysis."
   ]
  },
  {
   "cell_type": "code",
   "execution_count": 164,
   "id": "9058baf2",
   "metadata": {},
   "outputs": [
    {
     "data": {
      "text/plain": [
       "Index(['Created Time', 'H Number', 'Entry Type', 'Technician', 'Source',\n",
       "       'Year', 'Make', 'Model', 'Engine Size', 'HW #', 'Part #', 'Notes',\n",
       "       'Original Problems', 'Original DTCs', 'FS1 ECU Problems',\n",
       "       'FS1 ECU DTCs', 'Orig. FS1 Problems Related', 'Additional Notes',\n",
       "       'Resolution'],\n",
       "      dtype='object')"
      ]
     },
     "execution_count": 164,
     "metadata": {},
     "output_type": "execute_result"
    }
   ],
   "source": [
    "# Check the columns\n",
    "df_prescre_googl_form_dropped_len_cols.columns"
   ]
  },
  {
   "cell_type": "code",
   "execution_count": 165,
   "id": "28638bc1",
   "metadata": {},
   "outputs": [],
   "source": [
    "# Drop column notes\n",
    "df_google_form_final_version = df_prescre_googl_form_dropped_len_cols.drop(columns=['Notes'])"
   ]
  },
  {
   "cell_type": "code",
   "execution_count": 166,
   "id": "82551782",
   "metadata": {},
   "outputs": [
    {
     "data": {
      "text/plain": [
       "Index(['Created Time', 'H Number', 'Entry Type', 'Technician', 'Source',\n",
       "       'Year', 'Make', 'Model', 'Engine Size', 'HW #', 'Part #', 'Notes',\n",
       "       'H Number True', 'Original Problems', 'Original DTCs',\n",
       "       'FS1 ECU Problems', 'FS1 ECU DTCs', 'Are the problems related',\n",
       "       'Diagnosed properly by Customer?', 'Additional Notes', 'Resolution:'],\n",
       "      dtype='object')"
      ]
     },
     "execution_count": 166,
     "metadata": {},
     "output_type": "execute_result"
    }
   ],
   "source": [
    "# Check the columns\n",
    "df_main_sec_merged.columns"
   ]
  },
  {
   "cell_type": "code",
   "execution_count": 167,
   "id": "f0469599",
   "metadata": {},
   "outputs": [],
   "source": [
    "# Drop the following columns:\n",
    "# - H Number True\n",
    "# - Diagnosed properly by Customer?\n",
    "df_main_sec_merged_dropped_cols = df_main_sec_merged.drop(columns=['Notes', 'H Number True', 'Diagnosed properly by Customer?'])"
   ]
  },
  {
   "cell_type": "code",
   "execution_count": 168,
   "id": "de8795b6",
   "metadata": {},
   "outputs": [],
   "source": [
    "# Map to rename the columns\n",
    "map_cols_main_sec_merged = {\n",
    "    'Are the problems related': 'Orig. FS1 Problems Related',\n",
    "    'Resolution:': 'Resolution' \n",
    "    }"
   ]
  },
  {
   "cell_type": "code",
   "execution_count": 169,
   "id": "4bf5ca47",
   "metadata": {},
   "outputs": [],
   "source": [
    "# Rename column \"are the problems related\" to match the column name with the df_google_form_final_version \n",
    "df_main_sec_merged_renamed_col = df_main_sec_merged_dropped_cols.rename(columns=map_cols_main_sec_merged)"
   ]
  },
  {
   "cell_type": "markdown",
   "id": "e14eff89",
   "metadata": {},
   "source": [
    "### Print the cols to confirm if both dfs match the cols' name"
   ]
  },
  {
   "cell_type": "code",
   "execution_count": 170,
   "id": "f2246499",
   "metadata": {},
   "outputs": [
    {
     "data": {
      "text/plain": [
       "Index(['Created Time', 'H Number', 'Entry Type', 'Technician', 'Source',\n",
       "       'Year', 'Make', 'Model', 'Engine Size', 'HW #', 'Part #',\n",
       "       'Original Problems', 'Original DTCs', 'FS1 ECU Problems',\n",
       "       'FS1 ECU DTCs', 'Orig. FS1 Problems Related', 'Additional Notes',\n",
       "       'Resolution'],\n",
       "      dtype='object')"
      ]
     },
     "execution_count": 170,
     "metadata": {},
     "output_type": "execute_result"
    }
   ],
   "source": [
    "df_main_sec_merged_renamed_col.columns"
   ]
  },
  {
   "cell_type": "code",
   "execution_count": 171,
   "id": "c853e7c5",
   "metadata": {},
   "outputs": [
    {
     "data": {
      "text/plain": [
       "Index(['Created Time', 'H Number', 'Entry Type', 'Technician', 'Source',\n",
       "       'Year', 'Make', 'Model', 'Engine Size', 'HW #', 'Part #',\n",
       "       'Original Problems', 'Original DTCs', 'FS1 ECU Problems',\n",
       "       'FS1 ECU DTCs', 'Orig. FS1 Problems Related', 'Additional Notes',\n",
       "       'Resolution'],\n",
       "      dtype='object')"
      ]
     },
     "execution_count": 171,
     "metadata": {},
     "output_type": "execute_result"
    }
   ],
   "source": [
    "df_google_form_final_version.columns"
   ]
  },
  {
   "cell_type": "code",
   "execution_count": 174,
   "id": "5a7f9af6",
   "metadata": {},
   "outputs": [
    {
     "name": "stderr",
     "output_type": "stream",
     "text": [
      "<>:2: SyntaxWarning: invalid escape sequence '\\P'\n",
      "<>:2: SyntaxWarning: invalid escape sequence '\\P'\n",
      "C:\\Users\\Weverson Barbieri\\AppData\\Local\\Temp\\ipykernel_9296\\2551315859.py:2: SyntaxWarning: invalid escape sequence '\\P'\n",
      "  df_zoho_form_cleaned = pd.read_csv(\"C:\\\\Language_Projects\\\\Language_Projects\\Python\\\\Flagship_1\\\\automotive_diagnostic_data_cleaning\\\\data_cleaned\\\\df_zoho_form_cleaned.csv\")\n"
     ]
    }
   ],
   "source": [
    "# Read the df_zoho_form_cleaned to concatenate with the dfs cleaned in this notebook\n",
    "df_zoho_form_cleaned = pd.read_csv(\"C:\\\\Language_Projects\\\\Language_Projects\\Python\\\\Flagship_1\\\\automotive_diagnostic_data_cleaning\\\\data_cleaned\\\\df_zoho_form_cleaned.csv\")"
   ]
  },
  {
   "cell_type": "code",
   "execution_count": 175,
   "id": "e43547d9",
   "metadata": {},
   "outputs": [
    {
     "data": {
      "text/plain": [
       "Index(['Created Time', 'H Number', 'Entry Type', 'Technician', 'Source',\n",
       "       'Year', 'Make', 'Model', 'Engine Size', 'HW #', 'Part #',\n",
       "       'Original Problems', 'Original DTCs', 'FS1 ECU Problems',\n",
       "       'FS1 ECU DTCs', 'Orig. FS1 Problems Related', 'Additional Notes',\n",
       "       'Resolution'],\n",
       "      dtype='object')"
      ]
     },
     "execution_count": 175,
     "metadata": {},
     "output_type": "execute_result"
    }
   ],
   "source": [
    "# Check the columns to confirm if all match with the other 2 dfs\n",
    "df_zoho_form_cleaned.columns"
   ]
  },
  {
   "cell_type": "code",
   "execution_count": 176,
   "id": "6a00740d",
   "metadata": {},
   "outputs": [],
   "source": [
    "# Concatenate 3 dfs\n",
    "df_prescreen_cleaned = pd.concat([df_main_sec_merged_renamed_col, df_google_form_final_version, df_zoho_form_cleaned])"
   ]
  },
  {
   "cell_type": "code",
   "execution_count": 177,
   "id": "1c1a2ab5",
   "metadata": {},
   "outputs": [
    {
     "name": "stdout",
     "output_type": "stream",
     "text": [
      "<class 'pandas.core.frame.DataFrame'>\n",
      "Index: 5658 entries, 0 to 5043\n",
      "Data columns (total 18 columns):\n",
      " #   Column                      Non-Null Count  Dtype  \n",
      "---  ------                      --------------  -----  \n",
      " 0   Created Time                5658 non-null   object \n",
      " 1   H Number                    5658 non-null   object \n",
      " 2   Entry Type                  5658 non-null   object \n",
      " 3   Technician                  5638 non-null   object \n",
      " 4   Source                      5658 non-null   object \n",
      " 5   Year                        5658 non-null   float64\n",
      " 6   Make                        5658 non-null   object \n",
      " 7   Model                       5657 non-null   object \n",
      " 8   Engine Size                 5498 non-null   object \n",
      " 9   HW #                        5015 non-null   object \n",
      " 10  Part #                      5361 non-null   object \n",
      " 11  Original Problems           5653 non-null   object \n",
      " 12  Original DTCs               5332 non-null   object \n",
      " 13  FS1 ECU Problems            5654 non-null   object \n",
      " 14  FS1 ECU DTCs                5301 non-null   object \n",
      " 15  Orig. FS1 Problems Related  5658 non-null   object \n",
      " 16  Additional Notes            5346 non-null   object \n",
      " 17  Resolution                  5657 non-null   object \n",
      "dtypes: float64(1), object(17)\n",
      "memory usage: 839.9+ KB\n"
     ]
    }
   ],
   "source": [
    "# Check the info\n",
    "df_prescreen_cleaned.info()"
   ]
  },
  {
   "cell_type": "code",
   "execution_count": 178,
   "id": "d3069a87",
   "metadata": {},
   "outputs": [
    {
     "data": {
      "text/plain": [
       "<Axes: >"
      ]
     },
     "execution_count": 178,
     "metadata": {},
     "output_type": "execute_result"
    },
    {
     "data": {
      "image/png": "[encoded data removed]",
      "text/plain": [
       "<Figure size 2500x1000 with 2 Axes>"
      ]
     },
     "metadata": {},
     "output_type": "display_data"
    }
   ],
   "source": [
    "# Check the spread on the chart\n",
    "mso.matrix(df_prescreen_cleaned)"
   ]
  },
  {
   "cell_type": "code",
   "execution_count": null,
   "id": "59c84732",
   "metadata": {},
   "outputs": [
    {
     "name": "stderr",
     "output_type": "stream",
     "text": [
      "<>:2: SyntaxWarning: invalid escape sequence '\\L'\n",
      "<>:2: SyntaxWarning: invalid escape sequence '\\L'\n",
      "C:\\Users\\Weverson Barbieri\\AppData\\Local\\Temp\\ipykernel_15836\\339688756.py:2: SyntaxWarning: invalid escape sequence '\\L'\n",
      "  df_prescreen_cleaned.to_csv(\"C:\\Language_Projects\\Language_Projects\\Python\\Flagship_1\\\\automotive_diagnostic_data_analysis\\data\\data_cleaned\\df_prescreen_cleaned.csv\", index=False)\n"
     ]
    }
   ],
   "source": [
    "# Convert the full dataset to csv file format\n",
    "df_prescreen_cleaned.to_csv(\"C:\\Language_Projects\\Language_Projects\\Python\\Flagship_1\\automotive_diagnostic_data_cleaning\\data_cleaned\\df_prescreen_cleaned.csv\", index=False)"
   ]
  }
 ],
 "metadata": {
  "kernelspec": {
   "display_name": "venv",
   "language": "python",
   "name": "python3"
  },
  "language_info": {
   "codemirror_mode": {
    "name": "ipython",
    "version": 3
   },
   "file_extension": ".py",
   "mimetype": "text/x-python",
   "name": "python",
   "nbconvert_exporter": "python",
   "pygments_lexer": "ipython3",
   "version": "3.12.2"
  }
 },
 "nbformat": 4,
 "nbformat_minor": 5
}
