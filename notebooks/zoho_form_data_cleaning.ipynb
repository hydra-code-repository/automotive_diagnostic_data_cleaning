{
 "cells": [
  {
   "cell_type": "code",
   "execution_count": 1,
   "metadata": {},
   "outputs": [],
   "source": [
    "import pandas as pd\n",
    "import re\n",
    "import missingno as msno"
   ]
  },
  {
   "cell_type": "code",
   "execution_count": 2,
   "metadata": {},
   "outputs": [
    {
     "name": "stderr",
     "output_type": "stream",
     "text": [
      "<>:2: SyntaxWarning: invalid escape sequence '\\L'\n",
      "<>:2: SyntaxWarning: invalid escape sequence '\\L'\n",
      "C:\\Users\\Weverson Barbieri\\AppData\\Local\\Temp\\ipykernel_11604\\2771380963.py:2: SyntaxWarning: invalid escape sequence '\\L'\n",
      "  df = pd.read_csv('C:\\Language_Projects\\Language_Projects\\Python\\Flagship_1\\\\automotive_diagnostic_data_cleaning\\data\\Pre-Screen_Test_Results.csv')\n"
     ]
    }
   ],
   "source": [
    "# Read the csv file\n",
    "df = pd.read_csv('C:\\Language_Projects\\Language_Projects\\Python\\Flagship_1\\\\automotive_diagnostic_data_cleaning\\data\\Pre-Screen_Test_Results.csv')"
   ]
  },
  {
   "cell_type": "code",
   "execution_count": 3,
   "metadata": {},
   "outputs": [
    {
     "name": "stdout",
     "output_type": "stream",
     "text": [
      "<class 'pandas.core.frame.DataFrame'>\n",
      "RangeIndex: 8395 entries, 0 to 8394\n",
      "Data columns (total 12 columns):\n",
      " #   Column        Non-Null Count  Dtype  \n",
      "---  ------        --------------  -----  \n",
      " 0   Created Time  8395 non-null   object \n",
      " 1   H Number      8395 non-null   object \n",
      " 2   Entry Type    8395 non-null   object \n",
      " 3   Technician    8335 non-null   object \n",
      " 4   Source        8395 non-null   object \n",
      " 5   Year          8394 non-null   float64\n",
      " 6   Make          8395 non-null   object \n",
      " 7   Model         8393 non-null   object \n",
      " 8   Engine Size   8162 non-null   object \n",
      " 9   HW #          7363 non-null   object \n",
      " 10  Part #        7950 non-null   object \n",
      " 11  Notes         8348 non-null   object \n",
      "dtypes: float64(1), object(11)\n",
      "memory usage: 787.2+ KB\n"
     ]
    }
   ],
   "source": [
    "# Print the info of the extracted column\n",
    "df.info()"
   ]
  },
  {
   "cell_type": "code",
   "execution_count": 4,
   "metadata": {},
   "outputs": [
    {
     "data": {
      "text/plain": [
       "Entry Type\n",
       "Pre-Screen Form Completed    5044\n",
       "RMA Pre-Screen               1762\n",
       "RMA Test Results             1589\n",
       "Name: count, dtype: int64"
      ]
     },
     "execution_count": 4,
     "metadata": {},
     "output_type": "execute_result"
    }
   ],
   "source": [
    "# As the entry type 'RMA Test Results' does not contain prescreen notes, the rows with this entry type will be removed\n",
    "df['Entry Type'].value_counts()"
   ]
  },
  {
   "cell_type": "code",
   "execution_count": 5,
   "metadata": {},
   "outputs": [],
   "source": [
    "# Filter the DataFrame excluding the entry type 'RMA Test Results'\n",
    "df_prescreen_notes = df[df['Entry Type'].isin(['RMA Pre-Screen', 'Pre-Screen Form Completed'])]"
   ]
  },
  {
   "cell_type": "code",
   "execution_count": 6,
   "metadata": {},
   "outputs": [
    {
     "name": "stdout",
     "output_type": "stream",
     "text": [
      "<class 'pandas.core.frame.DataFrame'>\n",
      "Index: 6806 entries, 0 to 8394\n",
      "Data columns (total 12 columns):\n",
      " #   Column        Non-Null Count  Dtype  \n",
      "---  ------        --------------  -----  \n",
      " 0   Created Time  6806 non-null   object \n",
      " 1   H Number      6806 non-null   object \n",
      " 2   Entry Type    6806 non-null   object \n",
      " 3   Technician    6754 non-null   object \n",
      " 4   Source        6806 non-null   object \n",
      " 5   Year          6806 non-null   float64\n",
      " 6   Make          6806 non-null   object \n",
      " 7   Model         6805 non-null   object \n",
      " 8   Engine Size   6615 non-null   object \n",
      " 9   HW #          6001 non-null   object \n",
      " 10  Part #        6444 non-null   object \n",
      " 11  Notes         6760 non-null   object \n",
      "dtypes: float64(1), object(11)\n",
      "memory usage: 691.2+ KB\n"
     ]
    }
   ],
   "source": [
    "# Check the df updated\n",
    "df_prescreen_notes.info()"
   ]
  },
  {
   "cell_type": "code",
   "execution_count": 7,
   "metadata": {},
   "outputs": [],
   "source": [
    "# Create a dataframe with only the 'Pre-Screen Form Completed' entry type\n",
    "df_prescreen_zoho_form = df_prescreen_notes[df_prescreen_notes['Entry Type'] == 'Pre-Screen Form Completed']"
   ]
  },
  {
   "cell_type": "code",
   "execution_count": 8,
   "metadata": {},
   "outputs": [
    {
     "name": "stdout",
     "output_type": "stream",
     "text": [
      "<class 'pandas.core.frame.DataFrame'>\n",
      "Index: 5044 entries, 13 to 8394\n",
      "Data columns (total 12 columns):\n",
      " #   Column        Non-Null Count  Dtype  \n",
      "---  ------        --------------  -----  \n",
      " 0   Created Time  5044 non-null   object \n",
      " 1   H Number      5044 non-null   object \n",
      " 2   Entry Type    5044 non-null   object \n",
      " 3   Technician    5044 non-null   object \n",
      " 4   Source        5044 non-null   object \n",
      " 5   Year          5044 non-null   float64\n",
      " 6   Make          5044 non-null   object \n",
      " 7   Model         5043 non-null   object \n",
      " 8   Engine Size   4902 non-null   object \n",
      " 9   HW #          4472 non-null   object \n",
      " 10  Part #        4789 non-null   object \n",
      " 11  Notes         5044 non-null   object \n",
      "dtypes: float64(1), object(11)\n",
      "memory usage: 512.3+ KB\n"
     ]
    }
   ],
   "source": [
    "# Check the df updated\n",
    "df_prescreen_zoho_form.info()"
   ]
  },
  {
   "cell_type": "markdown",
   "metadata": {},
   "source": [
    "The CRM form contains the string 'Additional Notes' and the Entry Type 'Pre-Screen Form Completed' should contains only those accounts prescreened with the CRM form. "
   ]
  },
  {
   "cell_type": "code",
   "execution_count": 9,
   "metadata": {},
   "outputs": [],
   "source": [
    "# Confirm if the Entry Type 'Pre-Screen Form Completed' has only accounts prescreened with CRM form by using the string 'Additional Notes'\n",
    "additional_notes_checking = df_prescreen_zoho_form['Notes'].str.contains('Additional Notes', case=False, na=False)"
   ]
  },
  {
   "cell_type": "code",
   "execution_count": 10,
   "metadata": {},
   "outputs": [
    {
     "data": {
      "text/plain": [
       "Notes\n",
       "True    5044\n",
       "Name: count, dtype: int64"
      ]
     },
     "execution_count": 10,
     "metadata": {},
     "output_type": "execute_result"
    }
   ],
   "source": [
    "# Count if there is a False value\n",
    "additional_notes_checking.value_counts()"
   ]
  },
  {
   "cell_type": "markdown",
   "metadata": {},
   "source": [
    "### STRUCTURED DATA EXTRACTION FROM NOTES FIELD\n",
    "\n",
    "The 'Notes' column contains all diagnostic form data (original problems, \n",
    "current problems, resolution) in unstructured text format. This process \n",
    "extracts and separates these fields into distinct columns to facilitate:\n",
    "\n",
    "- Diagnostic technician analysis\n",
    "- Common module problem identification  \n",
    "- Statistical analysis and reporting\n",
    "- Pattern recognition in automotive diagnostics"
   ]
  },
  {
   "cell_type": "code",
   "execution_count": 11,
   "metadata": {},
   "outputs": [],
   "source": [
    "def extract_information(df, pattern, col_name, len_size_col):\n",
    "    '''Extract data: symptoms, \n",
    "    dtcs and strings from column notes'''\n",
    "    ser_zoho_form_data_extracted = df['Notes'].str.extract(pattern, flags=re.IGNORECASE | re.DOTALL)\n",
    "    # Rename column from 0 to the related info extracted\n",
    "    zoho_form_data_extracted_renamed_column = ser_zoho_form_data_extracted.rename(columns={0: col_name})\n",
    "    # Replace chars, whitespaces and no needed info from the data extracted\n",
    "    zoho_form_data_extracted_no_chars = zoho_form_data_extracted_renamed_column[col_name].str.replace(r'<[^>]+>|\\n|:|=|\\?|\\\\|\\/|\\r', '', regex=True).str.strip()\n",
    "    # Update the main df with the extracted data\n",
    "    df[col_name] = zoho_form_data_extracted_no_chars\n",
    "        \n",
    "    '''Method to create a list with the data extracted to check if the field names were not included in the extraction'''\n",
    "    # List with the string sizes\n",
    "    string_size_list = []\n",
    "\n",
    "    # Loop to iterate under the original problems column\n",
    "    for string in df[col_name]:\n",
    "        # Count the strings' length\n",
    "        string_length = len(string)\n",
    "        # Append the length to the list\n",
    "        string_size_list.append(string_length)\n",
    "\n",
    "    # Add to the main df a column with length of the data extracted\n",
    "    df[len_size_col] = string_size_list\n",
    "\n",
    "    return df"
   ]
  },
  {
   "cell_type": "code",
   "execution_count": 12,
   "metadata": {},
   "outputs": [],
   "source": [
    "# Small function to get the index with the biggest string lengths\n",
    "def get_index_w_biggest_len(df, col, str_length):\n",
    "    # Return the index\n",
    "    return df[df[col] == str_length].index"
   ]
  },
  {
   "cell_type": "code",
   "execution_count": 13,
   "metadata": {},
   "outputs": [],
   "source": [
    "# Small function to confirm the content of the string\n",
    "def string_content(df, col, idx):\n",
    "    return df[col][idx]"
   ]
  },
  {
   "cell_type": "markdown",
   "metadata": {},
   "source": [
    "ORIGINAL PROBLEMS EXTRACTION"
   ]
  },
  {
   "cell_type": "code",
   "execution_count": 14,
   "metadata": {},
   "outputs": [],
   "source": [
    "# Create the pattern to extract the original problems\n",
    "original_problems_pattern = r'experienced with customers original unit:\\s*(.*?)(?=DTCs on original unit)'"
   ]
  },
  {
   "cell_type": "code",
   "execution_count": 15,
   "metadata": {},
   "outputs": [
    {
     "name": "stderr",
     "output_type": "stream",
     "text": [
      "C:\\Users\\Weverson Barbieri\\AppData\\Local\\Temp\\ipykernel_11604\\2761241006.py:10: SettingWithCopyWarning: \n",
      "A value is trying to be set on a copy of a slice from a DataFrame.\n",
      "Try using .loc[row_indexer,col_indexer] = value instead\n",
      "\n",
      "See the caveats in the documentation: https://pandas.pydata.org/pandas-docs/stable/user_guide/indexing.html#returning-a-view-versus-a-copy\n",
      "  df[col_name] = zoho_form_data_extracted_no_chars\n",
      "C:\\Users\\Weverson Barbieri\\AppData\\Local\\Temp\\ipykernel_11604\\2761241006.py:24: SettingWithCopyWarning: \n",
      "A value is trying to be set on a copy of a slice from a DataFrame.\n",
      "Try using .loc[row_indexer,col_indexer] = value instead\n",
      "\n",
      "See the caveats in the documentation: https://pandas.pydata.org/pandas-docs/stable/user_guide/indexing.html#returning-a-view-versus-a-copy\n",
      "  df[len_size_col] = string_size_list\n"
     ]
    }
   ],
   "source": [
    "# Call the function to extract the original problems\n",
    "df_original_problems_extracted = extract_information(df_prescreen_zoho_form, original_problems_pattern, 'Original Problems', 'Original Problems Len')"
   ]
  },
  {
   "cell_type": "markdown",
   "metadata": {},
   "source": [
    "### Checking the content of the biggest string and confirm if the field string were not extracted."
   ]
  },
  {
   "cell_type": "code",
   "execution_count": 16,
   "metadata": {},
   "outputs": [
    {
     "data": {
      "text/plain": [
       "Original Problems Len\n",
       "34     233\n",
       "12     157\n",
       "15     137\n",
       "35     125\n",
       "14     120\n",
       "      ... \n",
       "163      1\n",
       "237      1\n",
       "173      1\n",
       "169      1\n",
       "185      1\n",
       "Name: count, Length: 172, dtype: int64"
      ]
     },
     "execution_count": 16,
     "metadata": {},
     "output_type": "execute_result"
    }
   ],
   "source": [
    "# Show an ascending stat with the original problems string length\n",
    "df_original_problems_extracted['Original Problems Len'].value_counts()"
   ]
  },
  {
   "cell_type": "markdown",
   "metadata": {},
   "source": [
    "## Samples with the biggest string lengths"
   ]
  },
  {
   "cell_type": "code",
   "execution_count": 17,
   "metadata": {},
   "outputs": [],
   "source": [
    "# List with the biggest strings\n",
    "list_w_biggest_strings = []"
   ]
  },
  {
   "cell_type": "code",
   "execution_count": 18,
   "metadata": {},
   "outputs": [],
   "source": [
    "list_w_biggest_strings.append(get_index_w_biggest_len(df_original_problems_extracted, 'Original Problems Len', 163))"
   ]
  },
  {
   "cell_type": "code",
   "execution_count": 19,
   "metadata": {},
   "outputs": [],
   "source": [
    "list_w_biggest_strings.append(get_index_w_biggest_len(df_original_problems_extracted, 'Original Problems Len', 237))"
   ]
  },
  {
   "cell_type": "code",
   "execution_count": 20,
   "metadata": {},
   "outputs": [],
   "source": [
    "list_w_biggest_strings.append(get_index_w_biggest_len(df_original_problems_extracted, 'Original Problems Len', 173))"
   ]
  },
  {
   "cell_type": "code",
   "execution_count": 21,
   "metadata": {},
   "outputs": [],
   "source": [
    "list_w_biggest_strings.append(get_index_w_biggest_len(df_original_problems_extracted, 'Original Problems Len', 169))"
   ]
  },
  {
   "cell_type": "code",
   "execution_count": 22,
   "metadata": {},
   "outputs": [],
   "source": [
    "list_w_biggest_strings.append(get_index_w_biggest_len(df_original_problems_extracted, 'Original Problems Len', 185))"
   ]
  },
  {
   "cell_type": "code",
   "execution_count": 23,
   "metadata": {},
   "outputs": [
    {
     "data": {
      "text/plain": [
       "[Index([3234], dtype='int64'),\n",
       " Index([5991], dtype='int64'),\n",
       " Index([4736], dtype='int64'),\n",
       " Index([6998], dtype='int64'),\n",
       " Index([8374], dtype='int64')]"
      ]
     },
     "execution_count": 23,
     "metadata": {},
     "output_type": "execute_result"
    }
   ],
   "source": [
    "# Print the list with the biggest strings appended\n",
    "list_w_biggest_strings"
   ]
  },
  {
   "cell_type": "markdown",
   "metadata": {},
   "source": [
    "## Check the content of the string to confirm if the form fields were not extracted"
   ]
  },
  {
   "cell_type": "code",
   "execution_count": 24,
   "metadata": {},
   "outputs": [
    {
     "data": {
      "text/plain": [
       "'Air Conditioning System,Evaporative Emissions System,Exhaust Gas Recirculation System,Manifold Absolute Pressure Sensor,O2 Sensors,Check engine light with multiple codes stored, could not pass emissions but did not have any abnormalities'"
      ]
     },
     "execution_count": 24,
     "metadata": {},
     "output_type": "execute_result"
    }
   ],
   "source": [
    "string_content(df_original_problems_extracted, 'Original Problems', 5991)"
   ]
  },
  {
   "cell_type": "code",
   "execution_count": 25,
   "metadata": {},
   "outputs": [
    {
     "data": {
      "text/plain": [
       "\"Communication Networks (CAN, CCD, Etc. Specify in notes.),customer states it won't communicate but starts, which doesn't make any sense. Also they mentioned O2 and ABS codes\""
      ]
     },
     "execution_count": 25,
     "metadata": {},
     "output_type": "execute_result"
    }
   ],
   "source": [
    "string_content(df_original_problems_extracted, 'Original Problems', 4736)"
   ]
  },
  {
   "cell_type": "code",
   "execution_count": 26,
   "metadata": {},
   "outputs": [
    {
     "data": {
      "text/plain": [
       "'ImmobilizerSecurity,No start, locksmith replaced PATS module and crank sensor but still no start. Then they tried another PCM, starter with incorect speedometer readings'"
      ]
     },
     "execution_count": 26,
     "metadata": {},
     "output_type": "execute_result"
    }
   ],
   "source": [
    "string_content(df_original_problems_extracted, 'Original Problems', 6998)"
   ]
  },
  {
   "cell_type": "code",
   "execution_count": 27,
   "metadata": {},
   "outputs": [
    {
     "data": {
      "text/plain": [
       "'Communication Networks (CAN, CCD, Etc. Specify in notes.),key will not turn back, gas hand stopped working, AC not working, doors will not auto unlock, rear lights not working, no start'"
      ]
     },
     "execution_count": 27,
     "metadata": {},
     "output_type": "execute_result"
    }
   ],
   "source": [
    "string_content(df_original_problems_extracted, 'Original Problems', 8374)"
   ]
  },
  {
   "cell_type": "markdown",
   "metadata": {},
   "source": [
    "## Content of the original problems extracted are correct"
   ]
  },
  {
   "cell_type": "markdown",
   "metadata": {},
   "source": [
    "ORIGINAL DTCs"
   ]
  },
  {
   "cell_type": "code",
   "execution_count": 28,
   "metadata": {},
   "outputs": [],
   "source": [
    "# Create the pattern to extract the original DTCs\n",
    "original_dtcs_pattern = r'DTCs on original unit:(.*?)(?=DTCs transcript)'"
   ]
  },
  {
   "cell_type": "code",
   "execution_count": 29,
   "metadata": {},
   "outputs": [
    {
     "name": "stderr",
     "output_type": "stream",
     "text": [
      "C:\\Users\\Weverson Barbieri\\AppData\\Local\\Temp\\ipykernel_11604\\2761241006.py:10: SettingWithCopyWarning: \n",
      "A value is trying to be set on a copy of a slice from a DataFrame.\n",
      "Try using .loc[row_indexer,col_indexer] = value instead\n",
      "\n",
      "See the caveats in the documentation: https://pandas.pydata.org/pandas-docs/stable/user_guide/indexing.html#returning-a-view-versus-a-copy\n",
      "  df[col_name] = zoho_form_data_extracted_no_chars\n",
      "C:\\Users\\Weverson Barbieri\\AppData\\Local\\Temp\\ipykernel_11604\\2761241006.py:24: SettingWithCopyWarning: \n",
      "A value is trying to be set on a copy of a slice from a DataFrame.\n",
      "Try using .loc[row_indexer,col_indexer] = value instead\n",
      "\n",
      "See the caveats in the documentation: https://pandas.pydata.org/pandas-docs/stable/user_guide/indexing.html#returning-a-view-versus-a-copy\n",
      "  df[len_size_col] = string_size_list\n"
     ]
    }
   ],
   "source": [
    "# Call the function to extract the original dtcs\n",
    "df_original_dtcs_extracted = extract_information(df_original_problems_extracted, original_dtcs_pattern, 'Original DTCs', 'Orig. DTCs Len')"
   ]
  },
  {
   "cell_type": "code",
   "execution_count": 30,
   "metadata": {},
   "outputs": [
    {
     "data": {
      "text/plain": [
       "Orig. DTCs Len\n",
       "5      1180\n",
       "12     1107\n",
       "8       341\n",
       "4       241\n",
       "2       196\n",
       "       ... \n",
       "117       1\n",
       "477       1\n",
       "390       1\n",
       "200       1\n",
       "108       1\n",
       "Name: count, Length: 177, dtype: int64"
      ]
     },
     "execution_count": 30,
     "metadata": {},
     "output_type": "execute_result"
    }
   ],
   "source": [
    "# Show an ascending stat with the original dtcs string length\n",
    "df_original_dtcs_extracted['Orig. DTCs Len'].value_counts()"
   ]
  },
  {
   "cell_type": "markdown",
   "metadata": {},
   "source": [
    "## Samples with the biggest string lengths: ORIGINAL DTCs"
   ]
  },
  {
   "cell_type": "code",
   "execution_count": 31,
   "metadata": {},
   "outputs": [],
   "source": [
    "# List with the biggest strings\n",
    "list_w_biggest_strings_orig_dtcs = []"
   ]
  },
  {
   "cell_type": "code",
   "execution_count": 32,
   "metadata": {},
   "outputs": [],
   "source": [
    "list_w_biggest_strings_orig_dtcs.append(get_index_w_biggest_len(df_original_dtcs_extracted, 'Orig. DTCs Len', 117))"
   ]
  },
  {
   "cell_type": "code",
   "execution_count": 33,
   "metadata": {},
   "outputs": [],
   "source": [
    "list_w_biggest_strings_orig_dtcs.append(get_index_w_biggest_len(df_original_dtcs_extracted, 'Orig. DTCs Len', 477))"
   ]
  },
  {
   "cell_type": "code",
   "execution_count": 34,
   "metadata": {},
   "outputs": [],
   "source": [
    "list_w_biggest_strings_orig_dtcs.append(get_index_w_biggest_len(df_original_dtcs_extracted, 'Orig. DTCs Len', 390))"
   ]
  },
  {
   "cell_type": "code",
   "execution_count": 35,
   "metadata": {},
   "outputs": [],
   "source": [
    "list_w_biggest_strings_orig_dtcs.append(get_index_w_biggest_len(df_original_dtcs_extracted, 'Orig. DTCs Len', 200))"
   ]
  },
  {
   "cell_type": "code",
   "execution_count": 36,
   "metadata": {},
   "outputs": [
    {
     "data": {
      "text/plain": [
       "[Index([7909], dtype='int64'),\n",
       " Index([7931], dtype='int64'),\n",
       " Index([8264], dtype='int64'),\n",
       " Index([8331], dtype='int64')]"
      ]
     },
     "execution_count": 36,
     "metadata": {},
     "output_type": "execute_result"
    }
   ],
   "source": [
    "# Print the list with the biggest strings appended\n",
    "list_w_biggest_strings_orig_dtcs"
   ]
  },
  {
   "cell_type": "markdown",
   "metadata": {},
   "source": [
    "## Check the content of the string to confirm if the form fields were not extracted: ORIGINAL DTCS"
   ]
  },
  {
   "cell_type": "code",
   "execution_count": 37,
   "metadata": {},
   "outputs": [
    {
     "data": {
      "text/plain": [
       "'\"cannot remember you should have it in your files\" and \"had shop diagnosed\" was stated in the diagnostic tests field.'"
      ]
     },
     "execution_count": 37,
     "metadata": {},
     "output_type": "execute_result"
    }
   ],
   "source": [
    "string_content(df_original_dtcs_extracted, 'Original DTCs', 7909)"
   ]
  },
  {
   "cell_type": "code",
   "execution_count": 38,
   "metadata": {},
   "outputs": [
    {
     "data": {
      "text/plain": [
       "'U0401 Invalid Data Received From Engine Control Module, B323B Lower Hands Free Sensor Signal Invalid, C0765 Right Rear Tire Pressure Sensor  Low Voltage, C0760 Left Rear Tire Pressure Sensor  Low Voltage, C0755 Right Front Tire Pressure Sensor  Low Voltage, C0750 Left Front Tire Pressure Sensor  Low Voltage, B3135 All Doors Lock Circuit, B3130 All Doors Unlock Circuit, B3125 Driver Door Only Unlock Circuit, B101d Electronic Control Unit Hardware, P1101, P050D, P0300, P0299'"
      ]
     },
     "execution_count": 38,
     "metadata": {},
     "output_type": "execute_result"
    }
   ],
   "source": [
    "string_content(df_original_dtcs_extracted, 'Original DTCs', 7931)"
   ]
  },
  {
   "cell_type": "code",
   "execution_count": 39,
   "metadata": {},
   "outputs": [
    {
     "data": {
      "text/plain": [
       "'U0100 Lost communication with PCM, U0140 Lost Communication with Body Control Module, U0121 Lost Communication With Electronic Brake Control Module, U0102 Lost Communication With Transfer Case Control Module, U0101 Lost Communication With Transmission Control Module, C0242 Engine Control Module Indicated Traction Control Malfunction, U0401 Invalid Data Received From Engine Control Module'"
      ]
     },
     "execution_count": 39,
     "metadata": {},
     "output_type": "execute_result"
    }
   ],
   "source": [
    "string_content(df_original_dtcs_extracted, 'Original DTCs', 8264)"
   ]
  },
  {
   "cell_type": "code",
   "execution_count": 40,
   "metadata": {},
   "outputs": [
    {
     "data": {
      "text/plain": [
       "'P160A,U0426 Invalid Data Received From Vehicle Immobilizer Control ModuleU0131 Lost Communication With Power Steering Control ModuleU3000 Control Module Data Memory FailureB10DA PATS Target Identifier'"
      ]
     },
     "execution_count": 40,
     "metadata": {},
     "output_type": "execute_result"
    }
   ],
   "source": [
    "string_content(df_original_dtcs_extracted, 'Original DTCs', 8331)"
   ]
  },
  {
   "cell_type": "markdown",
   "metadata": {},
   "source": [
    "## Content of the original dtcs extracted are correct"
   ]
  },
  {
   "cell_type": "markdown",
   "metadata": {},
   "source": [
    "FS1 PROBLEMS"
   ]
  },
  {
   "cell_type": "code",
   "execution_count": 41,
   "metadata": {},
   "outputs": [],
   "source": [
    "# Create the pattern to extract the fs1 problems\n",
    "fs1_problems_pattern = r'Problems experienced with our unit:(.*?)(?=DTCs on our unit:)'"
   ]
  },
  {
   "cell_type": "code",
   "execution_count": 42,
   "metadata": {},
   "outputs": [
    {
     "name": "stderr",
     "output_type": "stream",
     "text": [
      "C:\\Users\\Weverson Barbieri\\AppData\\Local\\Temp\\ipykernel_11604\\2761241006.py:10: SettingWithCopyWarning: \n",
      "A value is trying to be set on a copy of a slice from a DataFrame.\n",
      "Try using .loc[row_indexer,col_indexer] = value instead\n",
      "\n",
      "See the caveats in the documentation: https://pandas.pydata.org/pandas-docs/stable/user_guide/indexing.html#returning-a-view-versus-a-copy\n",
      "  df[col_name] = zoho_form_data_extracted_no_chars\n",
      "C:\\Users\\Weverson Barbieri\\AppData\\Local\\Temp\\ipykernel_11604\\2761241006.py:24: SettingWithCopyWarning: \n",
      "A value is trying to be set on a copy of a slice from a DataFrame.\n",
      "Try using .loc[row_indexer,col_indexer] = value instead\n",
      "\n",
      "See the caveats in the documentation: https://pandas.pydata.org/pandas-docs/stable/user_guide/indexing.html#returning-a-view-versus-a-copy\n",
      "  df[len_size_col] = string_size_list\n"
     ]
    }
   ],
   "source": [
    "# Call the function to extract the fs1 problems\n",
    "df_fs1_problems_extracted = extract_information(df_original_dtcs_extracted, fs1_problems_pattern, 'FS1 ECU Problems', 'FS1 Problems Len')"
   ]
  },
  {
   "cell_type": "markdown",
   "metadata": {},
   "source": [
    "### Checking the content of the biggest string and confirm if the field string were not extracted."
   ]
  },
  {
   "cell_type": "code",
   "execution_count": 43,
   "metadata": {},
   "outputs": [
    {
     "data": {
      "text/plain": [
       "FS1 Problems Len\n",
       "19     297\n",
       "12     136\n",
       "28     123\n",
       "34     121\n",
       "25     105\n",
       "      ... \n",
       "201      1\n",
       "211      1\n",
       "6        1\n",
       "214      1\n",
       "169      1\n",
       "Name: count, Length: 187, dtype: int64"
      ]
     },
     "execution_count": 43,
     "metadata": {},
     "output_type": "execute_result"
    }
   ],
   "source": [
    "# Show an ascending stat with the original problems string length\n",
    "df_fs1_problems_extracted['FS1 Problems Len'].value_counts()"
   ]
  },
  {
   "cell_type": "markdown",
   "metadata": {},
   "source": [
    "## Samples with the biggest string lengths"
   ]
  },
  {
   "cell_type": "code",
   "execution_count": 44,
   "metadata": {},
   "outputs": [],
   "source": [
    "# List with the biggest strings\n",
    "list_w_biggest_strings_fs1_probs = []"
   ]
  },
  {
   "cell_type": "code",
   "execution_count": 45,
   "metadata": {},
   "outputs": [],
   "source": [
    "list_w_biggest_strings_fs1_probs.append(get_index_w_biggest_len(df_fs1_problems_extracted, 'FS1 Problems Len', 201))"
   ]
  },
  {
   "cell_type": "code",
   "execution_count": 46,
   "metadata": {},
   "outputs": [],
   "source": [
    "list_w_biggest_strings_fs1_probs.append(get_index_w_biggest_len(df_fs1_problems_extracted, 'FS1 Problems Len', 211))"
   ]
  },
  {
   "cell_type": "code",
   "execution_count": 47,
   "metadata": {},
   "outputs": [],
   "source": [
    "list_w_biggest_strings_fs1_probs.append(get_index_w_biggest_len(df_fs1_problems_extracted, 'FS1 Problems Len', 214))"
   ]
  },
  {
   "cell_type": "code",
   "execution_count": 48,
   "metadata": {},
   "outputs": [],
   "source": [
    "list_w_biggest_strings_fs1_probs.append(get_index_w_biggest_len(df_fs1_problems_extracted, 'FS1 Problems Len', 169))"
   ]
  },
  {
   "cell_type": "code",
   "execution_count": 49,
   "metadata": {},
   "outputs": [
    {
     "data": {
      "text/plain": [
       "[Index([7181], dtype='int64'),\n",
       " Index([7440], dtype='int64'),\n",
       " Index([7980], dtype='int64'),\n",
       " Index([8000], dtype='int64')]"
      ]
     },
     "execution_count": 49,
     "metadata": {},
     "output_type": "execute_result"
    }
   ],
   "source": [
    "# Print the list with the biggest strings appended from the fs1 probs\n",
    "list_w_biggest_strings_fs1_probs"
   ]
  },
  {
   "cell_type": "markdown",
   "metadata": {},
   "source": [
    "## Check the content of the string to confirm if the form fields were not extracted"
   ]
  },
  {
   "cell_type": "code",
   "execution_count": 50,
   "metadata": {},
   "outputs": [
    {
     "data": {
      "text/plain": [
       "'Evaporative Emissions System,the vehicle was not passing emission tests due to EVAP codes.'"
      ]
     },
     "execution_count": 50,
     "metadata": {},
     "output_type": "execute_result"
    }
   ],
   "source": [
    "string_content(df_fs1_problems_extracted, 'Original Problems', 7181)"
   ]
  },
  {
   "cell_type": "code",
   "execution_count": 51,
   "metadata": {},
   "outputs": [
    {
     "data": {
      "text/plain": [
       "'Exhaust Gas Recirculation System,O2 Sensors,no failures reported, just the CEL turned on.'"
      ]
     },
     "execution_count": 51,
     "metadata": {},
     "output_type": "execute_result"
    }
   ],
   "source": [
    "string_content(df_fs1_problems_extracted, 'Original Problems', 7440)"
   ]
  },
  {
   "cell_type": "code",
   "execution_count": 52,
   "metadata": {},
   "outputs": [
    {
     "data": {
      "text/plain": [
       "'Charging System,the alternator was not charging due to no output from the ECM to the alternator.'"
      ]
     },
     "execution_count": 52,
     "metadata": {},
     "output_type": "execute_result"
    }
   ],
   "source": [
    "string_content(df_fs1_problems_extracted, 'Original Problems', 7980)"
   ]
  },
  {
   "cell_type": "code",
   "execution_count": 53,
   "metadata": {},
   "outputs": [
    {
     "data": {
      "text/plain": [
       "'Transmission shifting issues, original module was replaced 2 years ago'"
      ]
     },
     "execution_count": 53,
     "metadata": {},
     "output_type": "execute_result"
    }
   ],
   "source": [
    "string_content(df_fs1_problems_extracted, 'Original Problems', 8000)"
   ]
  },
  {
   "cell_type": "markdown",
   "metadata": {},
   "source": [
    "## Content of the fs1 problems extracted are correct"
   ]
  },
  {
   "cell_type": "markdown",
   "metadata": {},
   "source": [
    "FS1 DTCs"
   ]
  },
  {
   "cell_type": "code",
   "execution_count": 54,
   "metadata": {},
   "outputs": [],
   "source": [
    "# Pattern to extract the fs1 dtcs\n",
    "fs1_dtcs_pattern = r'DTCs on our unit:(.*?)(?=DTCs transcript)'"
   ]
  },
  {
   "cell_type": "code",
   "execution_count": 55,
   "metadata": {},
   "outputs": [
    {
     "name": "stderr",
     "output_type": "stream",
     "text": [
      "C:\\Users\\Weverson Barbieri\\AppData\\Local\\Temp\\ipykernel_11604\\2761241006.py:10: SettingWithCopyWarning: \n",
      "A value is trying to be set on a copy of a slice from a DataFrame.\n",
      "Try using .loc[row_indexer,col_indexer] = value instead\n",
      "\n",
      "See the caveats in the documentation: https://pandas.pydata.org/pandas-docs/stable/user_guide/indexing.html#returning-a-view-versus-a-copy\n",
      "  df[col_name] = zoho_form_data_extracted_no_chars\n",
      "C:\\Users\\Weverson Barbieri\\AppData\\Local\\Temp\\ipykernel_11604\\2761241006.py:24: SettingWithCopyWarning: \n",
      "A value is trying to be set on a copy of a slice from a DataFrame.\n",
      "Try using .loc[row_indexer,col_indexer] = value instead\n",
      "\n",
      "See the caveats in the documentation: https://pandas.pydata.org/pandas-docs/stable/user_guide/indexing.html#returning-a-view-versus-a-copy\n",
      "  df[len_size_col] = string_size_list\n"
     ]
    }
   ],
   "source": [
    "# Call the function to extract the fs1 dtcs\n",
    "df_fs1_dtcs_extracted = extract_information(df_fs1_problems_extracted, fs1_dtcs_pattern, 'FS1 ECU DTCs', 'FS1 DTCs Len')"
   ]
  },
  {
   "cell_type": "code",
   "execution_count": 56,
   "metadata": {},
   "outputs": [
    {
     "data": {
      "text/plain": [
       "FS1 DTCs Len\n",
       "12     1061\n",
       "5       928\n",
       "8       348\n",
       "4       306\n",
       "21      193\n",
       "       ... \n",
       "374       1\n",
       "150       1\n",
       "254       1\n",
       "270       1\n",
       "185       1\n",
       "Name: count, Length: 192, dtype: int64"
      ]
     },
     "execution_count": 56,
     "metadata": {},
     "output_type": "execute_result"
    }
   ],
   "source": [
    "# Show an ascending stat with the original dtcs string length\n",
    "df_original_dtcs_extracted['FS1 DTCs Len'].value_counts()"
   ]
  },
  {
   "cell_type": "markdown",
   "metadata": {},
   "source": [
    "## Samples with the biggest string lengths: FS1 DTCs"
   ]
  },
  {
   "cell_type": "code",
   "execution_count": 57,
   "metadata": {},
   "outputs": [],
   "source": [
    "# List with the biggest strings\n",
    "list_w_biggest_strings_fs1_dtcs = []"
   ]
  },
  {
   "cell_type": "code",
   "execution_count": 58,
   "metadata": {},
   "outputs": [],
   "source": [
    "list_w_biggest_strings_fs1_dtcs.append(get_index_w_biggest_len(df_fs1_problems_extracted, 'FS1 DTCs Len', 150))"
   ]
  },
  {
   "cell_type": "code",
   "execution_count": 59,
   "metadata": {},
   "outputs": [],
   "source": [
    "list_w_biggest_strings_fs1_dtcs.append(get_index_w_biggest_len(df_fs1_problems_extracted, 'FS1 DTCs Len', 150))"
   ]
  },
  {
   "cell_type": "code",
   "execution_count": 60,
   "metadata": {},
   "outputs": [],
   "source": [
    "list_w_biggest_strings_fs1_dtcs.append(get_index_w_biggest_len(df_fs1_problems_extracted, 'FS1 DTCs Len', 254))"
   ]
  },
  {
   "cell_type": "code",
   "execution_count": 61,
   "metadata": {},
   "outputs": [],
   "source": [
    "list_w_biggest_strings_fs1_dtcs.append(get_index_w_biggest_len(df_fs1_problems_extracted, 'FS1 DTCs Len', 270))"
   ]
  },
  {
   "cell_type": "code",
   "execution_count": 62,
   "metadata": {},
   "outputs": [
    {
     "data": {
      "text/plain": [
       "[Index([7466], dtype='int64'),\n",
       " Index([7466], dtype='int64'),\n",
       " Index([7496], dtype='int64'),\n",
       " Index([7557], dtype='int64')]"
      ]
     },
     "execution_count": 62,
     "metadata": {},
     "output_type": "execute_result"
    }
   ],
   "source": [
    "# Print the list with the biggest strings appended\n",
    "list_w_biggest_strings_fs1_dtcs"
   ]
  },
  {
   "cell_type": "markdown",
   "metadata": {},
   "source": [
    "## Check the content of the string to confirm if the form fields were not extracted: FS1 DTCs"
   ]
  },
  {
   "cell_type": "code",
   "execution_count": 63,
   "metadata": {},
   "outputs": [
    {
     "data": {
      "text/plain": [
       "'P1212, P1610 Lock Mode, P0462, P1612 Chain of ECM-IMMU, U1000  CAN Communication Line Signal Malfunction, U1001 Invalid or Missing Data for Primary Id'"
      ]
     },
     "execution_count": 63,
     "metadata": {},
     "output_type": "execute_result"
    }
   ],
   "source": [
    "string_content(df_fs1_problems_extracted, 'FS1 ECU DTCs', 7466)"
   ]
  },
  {
   "cell_type": "code",
   "execution_count": 64,
   "metadata": {},
   "outputs": [
    {
     "data": {
      "text/plain": [
       "'P0315, P0633, P315B, U0077 Control Module Communication Chassis Expansion CAN Bus OffU0401 Invalid Data Received From Engine Control ModuleU0140 Lost Communication With Body Control ModuleB101D Electronic Control Unit HardwareB1075 Audio Output\\u20096 Circuit'"
      ]
     },
     "execution_count": 64,
     "metadata": {},
     "output_type": "execute_result"
    }
   ],
   "source": [
    "string_content(df_fs1_problems_extracted, 'FS1 ECU DTCs', 7496)"
   ]
  },
  {
   "cell_type": "code",
   "execution_count": 65,
   "metadata": {},
   "outputs": [
    {
     "data": {
      "text/plain": [
       "'P0315, P0633, U0415 Invalid Data Received From Anti-Lock Brake System (ABS) Control ModuleU0401 Invalid Data Received From ECMPCM \"A\"U0077U420B1325 Device power #1 (low current #1) circuit malfunctionB1395 Device voltage reference output #1 circuit malfunctionB1517C0800'"
      ]
     },
     "execution_count": 65,
     "metadata": {},
     "output_type": "execute_result"
    }
   ],
   "source": [
    "string_content(df_fs1_problems_extracted, 'FS1 ECU DTCs', 7557)"
   ]
  },
  {
   "cell_type": "markdown",
   "metadata": {},
   "source": [
    "PROBLEMS RELATED"
   ]
  },
  {
   "cell_type": "code",
   "execution_count": 66,
   "metadata": {},
   "outputs": [],
   "source": [
    "# Pattern to extract the problems related info\n",
    "problems_related_pattern = r'Are the original and current problems related.*?(Yes|No|Uncertain).*?(?=Were the proper diagnostic)'"
   ]
  },
  {
   "cell_type": "code",
   "execution_count": 67,
   "metadata": {},
   "outputs": [
    {
     "name": "stderr",
     "output_type": "stream",
     "text": [
      "C:\\Users\\Weverson Barbieri\\AppData\\Local\\Temp\\ipykernel_11604\\2761241006.py:10: SettingWithCopyWarning: \n",
      "A value is trying to be set on a copy of a slice from a DataFrame.\n",
      "Try using .loc[row_indexer,col_indexer] = value instead\n",
      "\n",
      "See the caveats in the documentation: https://pandas.pydata.org/pandas-docs/stable/user_guide/indexing.html#returning-a-view-versus-a-copy\n",
      "  df[col_name] = zoho_form_data_extracted_no_chars\n",
      "C:\\Users\\Weverson Barbieri\\AppData\\Local\\Temp\\ipykernel_11604\\2761241006.py:24: SettingWithCopyWarning: \n",
      "A value is trying to be set on a copy of a slice from a DataFrame.\n",
      "Try using .loc[row_indexer,col_indexer] = value instead\n",
      "\n",
      "See the caveats in the documentation: https://pandas.pydata.org/pandas-docs/stable/user_guide/indexing.html#returning-a-view-versus-a-copy\n",
      "  df[len_size_col] = string_size_list\n"
     ]
    }
   ],
   "source": [
    "# Call the function to extract the problems related info\n",
    "df_problems_related_extracted = extract_information(df_fs1_problems_extracted, problems_related_pattern, 'Are the problems related', 'Problems related len')"
   ]
  },
  {
   "cell_type": "code",
   "execution_count": 68,
   "metadata": {},
   "outputs": [
    {
     "data": {
      "text/plain": [
       "Problems related len\n",
       "2    3852\n",
       "3     658\n",
       "9     534\n",
       "Name: count, dtype: int64"
      ]
     },
     "execution_count": 68,
     "metadata": {},
     "output_type": "execute_result"
    }
   ],
   "source": [
    "# Show an ascending stat with the original dtcs string length\n",
    "df_problems_related_extracted['Problems related len'].value_counts()"
   ]
  },
  {
   "cell_type": "markdown",
   "metadata": {},
   "source": [
    "## Content of the problems related extracted are correct as no = 2, yes = 3, uncertain = 9"
   ]
  },
  {
   "cell_type": "markdown",
   "metadata": {},
   "source": [
    "ADDITIONAL NOTES"
   ]
  },
  {
   "cell_type": "code",
   "execution_count": 69,
   "metadata": {},
   "outputs": [],
   "source": [
    "# Pattern to extract the additional notes pattern\n",
    "additional_notes_pattern = r'Additional Notes/Testing Recommendations?\\s*(.*?)(?=Resolution:)'"
   ]
  },
  {
   "cell_type": "code",
   "execution_count": 70,
   "metadata": {},
   "outputs": [
    {
     "name": "stderr",
     "output_type": "stream",
     "text": [
      "C:\\Users\\Weverson Barbieri\\AppData\\Local\\Temp\\ipykernel_11604\\2761241006.py:10: SettingWithCopyWarning: \n",
      "A value is trying to be set on a copy of a slice from a DataFrame.\n",
      "Try using .loc[row_indexer,col_indexer] = value instead\n",
      "\n",
      "See the caveats in the documentation: https://pandas.pydata.org/pandas-docs/stable/user_guide/indexing.html#returning-a-view-versus-a-copy\n",
      "  df[col_name] = zoho_form_data_extracted_no_chars\n",
      "C:\\Users\\Weverson Barbieri\\AppData\\Local\\Temp\\ipykernel_11604\\2761241006.py:24: SettingWithCopyWarning: \n",
      "A value is trying to be set on a copy of a slice from a DataFrame.\n",
      "Try using .loc[row_indexer,col_indexer] = value instead\n",
      "\n",
      "See the caveats in the documentation: https://pandas.pydata.org/pandas-docs/stable/user_guide/indexing.html#returning-a-view-versus-a-copy\n",
      "  df[len_size_col] = string_size_list\n"
     ]
    }
   ],
   "source": [
    "# Call the function to extract the addtional notes info\n",
    "df_additional_notes_extrated = extract_information(df_problems_related_extracted, additional_notes_pattern, 'Additional Notes', 'Additional Notes Len')"
   ]
  },
  {
   "cell_type": "code",
   "execution_count": 71,
   "metadata": {},
   "outputs": [
    {
     "data": {
      "text/plain": [
       "Additional Notes Len\n",
       "27      219\n",
       "67      170\n",
       "0       167\n",
       "32      106\n",
       "34       78\n",
       "       ... \n",
       "938       1\n",
       "648       1\n",
       "1027      1\n",
       "342       1\n",
       "827       1\n",
       "Name: count, Length: 744, dtype: int64"
      ]
     },
     "execution_count": 71,
     "metadata": {},
     "output_type": "execute_result"
    }
   ],
   "source": [
    "# Show an ascending stat with the additional notes string length\n",
    "df_problems_related_extracted['Additional Notes Len'].value_counts()"
   ]
  },
  {
   "cell_type": "markdown",
   "metadata": {},
   "source": [
    "## Samples with the biggest string lengths: Additional Notes"
   ]
  },
  {
   "cell_type": "code",
   "execution_count": 72,
   "metadata": {},
   "outputs": [],
   "source": [
    "# List with the biggest strings\n",
    "list_w_biggest_strings_addit_notes = []"
   ]
  },
  {
   "cell_type": "code",
   "execution_count": 73,
   "metadata": {},
   "outputs": [],
   "source": [
    "list_w_biggest_strings_addit_notes.append(get_index_w_biggest_len(df_problems_related_extracted, 'Additional Notes Len', 938))"
   ]
  },
  {
   "cell_type": "code",
   "execution_count": 74,
   "metadata": {},
   "outputs": [],
   "source": [
    "list_w_biggest_strings_addit_notes.append(get_index_w_biggest_len(df_problems_related_extracted, 'Additional Notes Len', 648))"
   ]
  },
  {
   "cell_type": "code",
   "execution_count": 75,
   "metadata": {},
   "outputs": [],
   "source": [
    "list_w_biggest_strings_addit_notes.append(get_index_w_biggest_len(df_problems_related_extracted, 'Additional Notes Len', 1027))"
   ]
  },
  {
   "cell_type": "code",
   "execution_count": 76,
   "metadata": {},
   "outputs": [],
   "source": [
    "list_w_biggest_strings_addit_notes.append(get_index_w_biggest_len(df_problems_related_extracted, 'Additional Notes Len', 342))"
   ]
  },
  {
   "cell_type": "code",
   "execution_count": 77,
   "metadata": {},
   "outputs": [],
   "source": [
    "list_w_biggest_strings_addit_notes.append(get_index_w_biggest_len(df_problems_related_extracted, 'Additional Notes Len', 827))"
   ]
  },
  {
   "cell_type": "code",
   "execution_count": 77,
   "metadata": {},
   "outputs": [
    {
     "data": {
      "text/plain": [
       "[Index([8019], dtype='int64'),\n",
       " Index([8030], dtype='int64'),\n",
       " Index([8121], dtype='int64'),\n",
       " Index([8223], dtype='int64')]"
      ]
     },
     "execution_count": 77,
     "metadata": {},
     "output_type": "execute_result"
    }
   ],
   "source": [
    "# Print the list with the biggest strings appended\n",
    "list_w_biggest_strings_addit_notes"
   ]
  },
  {
   "cell_type": "markdown",
   "metadata": {},
   "source": [
    "## Check the content of the string to confirm if the form fields were not extracted: Additional Notes"
   ]
  },
  {
   "cell_type": "code",
   "execution_count": 78,
   "metadata": {},
   "outputs": [
    {
     "data": {
      "text/plain": [
       "'S313697 history It would not startCode  1) What are the scanned code present with our unit Example of scanned code U1000, P160A)P0610 Control Module Vehicle Options Error,P1500 General alternator \"FR\" Terminal circuit fault,P2127 ThrottlePedal Position SensorSwitch \"E\" Circuit Low,P0108 Manifold Absolute PressureBarometric Pressure Circuit High,P0021 \"A\" Camshaft Position - Timing Over-Advanced or System Performance Bank 2,U140A,P04123,P0222 Throttle position (TP) sensor Baccelerator pedal position (APP) sensor B – low input,P0600 Serial Communication Link,P2122 ThrottlePedal Position SensorSwitch \"D\" Circuit Low,P2127 ThrottlePedal Position SensorSwitch \"E\" Circuit LowAccount manager should ask the customer the following question below1) What are the scanned codes present with our unitExample of scanned code U1000, P160A)2) Was our unit communicating with the scanner3) Does the vehicle start with the original unit installed'"
      ]
     },
     "execution_count": 78,
     "metadata": {},
     "output_type": "execute_result"
    }
   ],
   "source": [
    "string_content(df_problems_related_extracted, 'Additional Notes', 8019)"
   ]
  },
  {
   "cell_type": "code",
   "execution_count": 79,
   "metadata": {},
   "outputs": [
    {
     "data": {
      "text/plain": [
       "'S312606 was used in account H1490815 and was replaced because the customer claimed that it was not programmed correctlyThe problem is not in the pcm, here are some of the causes of the P0088  codeFaulty fuel pressure regulatorClogged fuel filterMalfunctioning fuel pumpIssues with the fuel injectorsWiring or electrical issues in the fuel systemThe first thing that the customer should do is to replace the fuel filter, check their fuel lines and tank for blockage and contamination. Most likely than not, they will find the problem there. If not then they should next check their FRP sensor and the metering valve at the pump as well as the wiring'"
      ]
     },
     "execution_count": 79,
     "metadata": {},
     "output_type": "execute_result"
    }
   ],
   "source": [
    "string_content(df_problems_related_extracted, 'Additional Notes', 8030)"
   ]
  },
  {
   "cell_type": "code",
   "execution_count": 80,
   "metadata": {},
   "outputs": [
    {
     "data": {
      "text/plain": [
       "'S349457 history MIL illuminatedDTCs on our unit P1635, P1639Recommend customer performing the parameter reset function, using a professional grade scanner, and not just key clearingprogramming of at least two keys. If issue persist after the parameter reset function is performed Account manager should ask the customer the following questions below 1) What are the scanned code present with our unit Example of scanned code U1000, P160A) 2) Was our unit communicating with the scanner 3) With the ignition turned to the on position, was the security light blinking continuously with our unit installed 4) Was the parameter reset performed successfully with our unit installed 5) What is the name and model of the scanner used for the parameter reset process 6) How many keys were programmed to our unit7) After the parameter reset had been performed with our unit installed, if our unit is uninstalled from the vehicle and the original unit was re-installed, will the vehicle start without performing the parameter reset again'"
      ]
     },
     "execution_count": 80,
     "metadata": {},
     "output_type": "execute_result"
    }
   ],
   "source": [
    "string_content(df_problems_related_extracted, 'Additional Notes', 8121)"
   ]
  },
  {
   "cell_type": "code",
   "execution_count": 81,
   "metadata": {},
   "outputs": [
    {
     "data": {
      "text/plain": [
       "'S353359 history  No history foundWe will need to send customer a replacement unit since customer state vehicle starts intermittently and security related code is present with our unitAccount manager should have customer verify the vehicle VIN and the original unit part number once we have this information, let us Return unit for replacement'"
      ]
     },
     "execution_count": 81,
     "metadata": {},
     "output_type": "execute_result"
    }
   ],
   "source": [
    "string_content(df_problems_related_extracted, 'Additional Notes', 8223)"
   ]
  },
  {
   "cell_type": "code",
   "execution_count": 82,
   "metadata": {},
   "outputs": [
    {
     "data": {
      "text/plain": [
       "'S300559 history  Unit is not working with the vehicle; it had code but it was not providedSimilar information was filled on both pages of the,RMA form Clarification is required for proper diagnosis. Account manager should ask the customer the following questions below 1) What are the scanned code present with our unit Example of scanned code U1000, P160A) 2) Was our unit communicating with the scanner 3) With the ignition turned to the on position, was the security light blinking continuously with our unit installed4) What is the name and model of the scanner used for the parameter reset process 6) How many keys were programmed to our unit7)\\tWhat are the problemsymptoms experienced with the original unit8)\\tWhat are the scanned code present with the original unit9)\\tWas the original unit communicating with the scanner'"
      ]
     },
     "execution_count": 82,
     "metadata": {},
     "output_type": "execute_result"
    }
   ],
   "source": [
    "string_content(df_problems_related_extracted, 'Additional Notes', 8302)"
   ]
  },
  {
   "cell_type": "markdown",
   "metadata": {},
   "source": [
    "## Content of the additional notes extracted are correct"
   ]
  },
  {
   "cell_type": "markdown",
   "metadata": {},
   "source": [
    "RESOLUTION"
   ]
  },
  {
   "cell_type": "code",
   "execution_count": 83,
   "metadata": {},
   "outputs": [],
   "source": [
    "# Pattern to extract the resolution\n",
    "# \\s - any whitespace char\n",
    "# - zero or more occurencies\n",
    "# () - capture group\n",
    "# . - any char, except line broken\n",
    "# * - zero or more occurencies\n",
    "resolution_pattern = r'Resolution:\\s*(.*?)(?=\\n\\n|$)'"
   ]
  },
  {
   "cell_type": "code",
   "execution_count": 84,
   "metadata": {},
   "outputs": [
    {
     "name": "stderr",
     "output_type": "stream",
     "text": [
      "C:\\Users\\Weverson Barbieri\\AppData\\Local\\Temp\\ipykernel_11604\\2761241006.py:10: SettingWithCopyWarning: \n",
      "A value is trying to be set on a copy of a slice from a DataFrame.\n",
      "Try using .loc[row_indexer,col_indexer] = value instead\n",
      "\n",
      "See the caveats in the documentation: https://pandas.pydata.org/pandas-docs/stable/user_guide/indexing.html#returning-a-view-versus-a-copy\n",
      "  df[col_name] = zoho_form_data_extracted_no_chars\n",
      "C:\\Users\\Weverson Barbieri\\AppData\\Local\\Temp\\ipykernel_11604\\2761241006.py:24: SettingWithCopyWarning: \n",
      "A value is trying to be set on a copy of a slice from a DataFrame.\n",
      "Try using .loc[row_indexer,col_indexer] = value instead\n",
      "\n",
      "See the caveats in the documentation: https://pandas.pydata.org/pandas-docs/stable/user_guide/indexing.html#returning-a-view-versus-a-copy\n",
      "  df[len_size_col] = string_size_list\n"
     ]
    }
   ],
   "source": [
    "# Call the function to extract the resolution\n",
    "df_resolution_extracted = extract_information(df_problems_related_extracted, resolution_pattern, 'Resolution', 'Resolution Len')"
   ]
  },
  {
   "cell_type": "markdown",
   "metadata": {},
   "source": [
    "### Checking the content of the biggest string and confirm if the field string were not extracted."
   ]
  },
  {
   "cell_type": "code",
   "execution_count": 85,
   "metadata": {},
   "outputs": [
    {
     "data": {
      "text/plain": [
       "Resolution Len\n",
       "33     1040\n",
       "39      746\n",
       "27      744\n",
       "149     603\n",
       "57      376\n",
       "       ... \n",
       "4         1\n",
       "452       1\n",
       "378       1\n",
       "289       1\n",
       "245       1\n",
       "Name: count, Length: 155, dtype: int64"
      ]
     },
     "execution_count": 85,
     "metadata": {},
     "output_type": "execute_result"
    }
   ],
   "source": [
    "# Show an ascending stat with the resolution string length\n",
    "df_resolution_extracted['Resolution Len'].value_counts()"
   ]
  },
  {
   "cell_type": "markdown",
   "metadata": {},
   "source": [
    "## Samples with the biggest string lengths"
   ]
  },
  {
   "cell_type": "code",
   "execution_count": 86,
   "metadata": {},
   "outputs": [],
   "source": [
    "# List with the biggest strings\n",
    "list_w_biggest_strings_resolution = []"
   ]
  },
  {
   "cell_type": "code",
   "execution_count": 87,
   "metadata": {},
   "outputs": [],
   "source": [
    "list_w_biggest_strings_resolution.append(get_index_w_biggest_len(df_resolution_extracted, 'Resolution Len', 452))"
   ]
  },
  {
   "cell_type": "code",
   "execution_count": 88,
   "metadata": {},
   "outputs": [],
   "source": [
    "list_w_biggest_strings_resolution.append(get_index_w_biggest_len(df_resolution_extracted, 'Resolution Len', 378))"
   ]
  },
  {
   "cell_type": "code",
   "execution_count": 89,
   "metadata": {},
   "outputs": [],
   "source": [
    "list_w_biggest_strings_resolution.append(get_index_w_biggest_len(df_resolution_extracted, 'Resolution Len', 289))"
   ]
  },
  {
   "cell_type": "code",
   "execution_count": 90,
   "metadata": {},
   "outputs": [],
   "source": [
    "list_w_biggest_strings_resolution.append(get_index_w_biggest_len(df_resolution_extracted, 'Resolution Len', 245))"
   ]
  },
  {
   "cell_type": "code",
   "execution_count": 91,
   "metadata": {},
   "outputs": [
    {
     "data": {
      "text/plain": [
       "[Index([6926], dtype='int64'),\n",
       " Index([7124], dtype='int64'),\n",
       " Index([7139], dtype='int64'),\n",
       " Index([7496], dtype='int64')]"
      ]
     },
     "execution_count": 91,
     "metadata": {},
     "output_type": "execute_result"
    }
   ],
   "source": [
    "# Print the list with the biggest strings appended from the resolution\n",
    "list_w_biggest_strings_resolution"
   ]
  },
  {
   "cell_type": "markdown",
   "metadata": {},
   "source": [
    "## Check the content of the string to confirm if the form fields were not extracted"
   ]
  },
  {
   "cell_type": "code",
   "execution_count": 92,
   "metadata": {},
   "outputs": [
    {
     "data": {
      "text/plain": [
       "'Account manager should have customer send us the picture of the sticker on the original unit, once we have this information, we should have our unit returned so we can confirm that the correct VIN is programmed to the module AND ALSO MATCH THE BCC ON THE ORIGINAL UNIT STICKER. If we confirm that the unit is programmed to the correct VIN, the best solution at this time would be to try a replacement AND ENSURE IT’S BCC MATCH THAT OF THE ORIGINAL UNIT'"
      ]
     },
     "execution_count": 92,
     "metadata": {},
     "output_type": "execute_result"
    }
   ],
   "source": [
    "string_content(df_resolution_extracted, 'Resolution', 6926)"
   ]
  },
  {
   "cell_type": "code",
   "execution_count": 93,
   "metadata": {},
   "outputs": [
    {
     "data": {
      "text/plain": [
       "'unfortunately, the vehicle is behaving the same even after replacing the ECM, and with the form not stating diagnostic details, the only conclusion is that the vehicle has additional problems. However, if the customer wants our diagnostic assistance, a new form needs to be filled out answering all questions properly with diagnostic information.Resolution see resolution above.'"
      ]
     },
     "execution_count": 93,
     "metadata": {},
     "output_type": "execute_result"
    }
   ],
   "source": [
    "string_content(df_resolution_extracted, 'Resolution', 7124)"
   ]
  },
  {
   "cell_type": "code",
   "execution_count": 94,
   "metadata": {},
   "outputs": [
    {
     "data": {
      "text/plain": [
       "'the best we can do in this case is return our module along with the original one, test the GMLAN Serial Data lines and if no problems are found, we can clone the original ECM into ours. But it is tested bad for communication, we can clone a replacement.Resolution see the resolution above.'"
      ]
     },
     "execution_count": 94,
     "metadata": {},
     "output_type": "execute_result"
    }
   ],
   "source": [
    "string_content(df_resolution_extracted, 'Resolution', 7139)"
   ]
  },
  {
   "cell_type": "code",
   "execution_count": 95,
   "metadata": {},
   "outputs": [
    {
     "data": {
      "text/plain": [
       "\"recommend we return our module along with the original one. Let's test the GMLAN data lines off-board on our module and if it tests fine, we can clone the original ECM into ours. If not, let's clone a replacement.Resolution see resolution above.\""
      ]
     },
     "execution_count": 95,
     "metadata": {},
     "output_type": "execute_result"
    }
   ],
   "source": [
    "string_content(df_resolution_extracted, 'Resolution', 7496)"
   ]
  },
  {
   "cell_type": "code",
   "execution_count": 96,
   "metadata": {},
   "outputs": [
    {
     "name": "stdout",
     "output_type": "stream",
     "text": [
      "<class 'pandas.core.frame.DataFrame'>\n",
      "Index: 5044 entries, 13 to 8394\n",
      "Data columns (total 26 columns):\n",
      " #   Column                    Non-Null Count  Dtype  \n",
      "---  ------                    --------------  -----  \n",
      " 0   Created Time              5044 non-null   object \n",
      " 1   H Number                  5044 non-null   object \n",
      " 2   Entry Type                5044 non-null   object \n",
      " 3   Technician                5044 non-null   object \n",
      " 4   Source                    5044 non-null   object \n",
      " 5   Year                      5044 non-null   float64\n",
      " 6   Make                      5044 non-null   object \n",
      " 7   Model                     5043 non-null   object \n",
      " 8   Engine Size               4902 non-null   object \n",
      " 9   HW #                      4472 non-null   object \n",
      " 10  Part #                    4789 non-null   object \n",
      " 11  Notes                     5044 non-null   object \n",
      " 12  Original Problems         5044 non-null   object \n",
      " 13  Original Problems Len     5044 non-null   int64  \n",
      " 14  Original DTCs             5044 non-null   object \n",
      " 15  Orig. DTCs Len            5044 non-null   int64  \n",
      " 16  FS1 ECU Problems          5044 non-null   object \n",
      " 17  FS1 Problems Len          5044 non-null   int64  \n",
      " 18  FS1 ECU DTCs              5044 non-null   object \n",
      " 19  FS1 DTCs Len              5044 non-null   int64  \n",
      " 20  Are the problems related  5044 non-null   object \n",
      " 21  Problems related len      5044 non-null   int64  \n",
      " 22  Additional Notes          5044 non-null   object \n",
      " 23  Additional Notes Len      5044 non-null   int64  \n",
      " 24  Resolution                5044 non-null   object \n",
      " 25  Resolution Len            5044 non-null   int64  \n",
      "dtypes: float64(1), int64(7), object(18)\n",
      "memory usage: 1.2+ MB\n"
     ]
    }
   ],
   "source": [
    "# Print the info of the new dataframe to check how many null values the new columns have\n",
    "df_resolution_extracted.info()"
   ]
  },
  {
   "cell_type": "code",
   "execution_count": 97,
   "metadata": {},
   "outputs": [
    {
     "data": {
      "text/plain": [
       "Index(['Created Time', 'H Number', 'Entry Type', 'Technician', 'Source',\n",
       "       'Year', 'Make', 'Model', 'Engine Size', 'HW #', 'Part #', 'Notes',\n",
       "       'Original Problems', 'Original Problems Len', 'Original DTCs',\n",
       "       'Orig. DTCs Len', 'FS1 ECU Problems', 'FS1 Problems Len',\n",
       "       'FS1 ECU DTCs', 'FS1 DTCs Len', 'Are the problems related',\n",
       "       'Problems related len', 'Additional Notes', 'Additional Notes Len',\n",
       "       'Resolution', 'Resolution Len'],\n",
       "      dtype='object')"
      ]
     },
     "execution_count": 97,
     "metadata": {},
     "output_type": "execute_result"
    }
   ],
   "source": [
    "# Show all columns\n",
    "df_resolution_extracted.columns"
   ]
  },
  {
   "cell_type": "code",
   "execution_count": 98,
   "metadata": {},
   "outputs": [],
   "source": [
    "# Drop the columns containing the string lengths as they are no longer needed\n",
    "df_zoho_form_dropped_column = df_resolution_extracted.drop(columns=['Original Problems Len', 'Orig. DTCs Len', 'FS1 Problems Len', 'FS1 DTCs Len', 'Problems related len', 'Additional Notes Len', 'Resolution Len'])"
   ]
  },
  {
   "cell_type": "code",
   "execution_count": 99,
   "metadata": {},
   "outputs": [
    {
     "data": {
      "text/plain": [
       "<Axes: >"
      ]
     },
     "execution_count": 99,
     "metadata": {},
     "output_type": "execute_result"
    },
    {
     "data": {
      "image/png": "[encoded data removed]",
      "text/plain": [
       "<Figure size 2500x1000 with 2 Axes>"
      ]
     },
     "metadata": {},
     "output_type": "display_data"
    }
   ],
   "source": [
    "# Visualize the missing values on the new dataframe chart\n",
    "msno.matrix(df_zoho_form_dropped_column)"
   ]
  },
  {
   "cell_type": "code",
   "execution_count": 100,
   "metadata": {},
   "outputs": [
    {
     "data": {
      "text/plain": [
       "Index(['Created Time', 'H Number', 'Entry Type', 'Technician', 'Source',\n",
       "       'Year', 'Make', 'Model', 'Engine Size', 'HW #', 'Part #', 'Notes',\n",
       "       'Original Problems', 'Original DTCs', 'FS1 ECU Problems',\n",
       "       'FS1 ECU DTCs', 'Are the problems related', 'Additional Notes',\n",
       "       'Resolution'],\n",
       "      dtype='object')"
      ]
     },
     "execution_count": 100,
     "metadata": {},
     "output_type": "execute_result"
    }
   ],
   "source": [
    "# Check the columns\n",
    "df_zoho_form_dropped_column.columns"
   ]
  },
  {
   "cell_type": "code",
   "execution_count": 101,
   "metadata": {},
   "outputs": [],
   "source": [
    "# Rename the column 'Are the problems related' to 'Orig. FS1 Problems Related'\n",
    "df_zoho_form_final_version = df_zoho_form_dropped_column.rename(columns={'Are the problems related': 'Orig. FS1 Problems Related'})"
   ]
  },
  {
   "cell_type": "code",
   "execution_count": 102,
   "metadata": {},
   "outputs": [
    {
     "name": "stdout",
     "output_type": "stream",
     "text": [
      "<class 'pandas.core.frame.DataFrame'>\n",
      "Index: 5044 entries, 13 to 8394\n",
      "Data columns (total 19 columns):\n",
      " #   Column                      Non-Null Count  Dtype  \n",
      "---  ------                      --------------  -----  \n",
      " 0   Created Time                5044 non-null   object \n",
      " 1   H Number                    5044 non-null   object \n",
      " 2   Entry Type                  5044 non-null   object \n",
      " 3   Technician                  5044 non-null   object \n",
      " 4   Source                      5044 non-null   object \n",
      " 5   Year                        5044 non-null   float64\n",
      " 6   Make                        5044 non-null   object \n",
      " 7   Model                       5043 non-null   object \n",
      " 8   Engine Size                 4902 non-null   object \n",
      " 9   HW #                        4472 non-null   object \n",
      " 10  Part #                      4789 non-null   object \n",
      " 11  Notes                       5044 non-null   object \n",
      " 12  Original Problems           5044 non-null   object \n",
      " 13  Original DTCs               5044 non-null   object \n",
      " 14  FS1 ECU Problems            5044 non-null   object \n",
      " 15  FS1 ECU DTCs                5044 non-null   object \n",
      " 16  Orig. FS1 Problems Related  5044 non-null   object \n",
      " 17  Additional Notes            5044 non-null   object \n",
      " 18  Resolution                  5044 non-null   object \n",
      "dtypes: float64(1), object(18)\n",
      "memory usage: 917.2+ KB\n"
     ]
    }
   ],
   "source": [
    "# Check the info\n",
    "df_zoho_form_final_version.info()"
   ]
  },
  {
   "cell_type": "code",
   "execution_count": 103,
   "metadata": {},
   "outputs": [],
   "source": [
    "# Drop column notes\n",
    "df_zoho_form_final_version_drop_col = df_zoho_form_final_version.drop(columns=['Notes'])"
   ]
  },
  {
   "cell_type": "code",
   "execution_count": null,
   "metadata": {},
   "outputs": [
    {
     "name": "stderr",
     "output_type": "stream",
     "text": [
      "<>:2: SyntaxWarning: invalid escape sequence '\\L'\n",
      "<>:2: SyntaxWarning: invalid escape sequence '\\L'\n",
      "C:\\Users\\Weverson Barbieri\\AppData\\Local\\Temp\\ipykernel_1940\\304376459.py:2: SyntaxWarning: invalid escape sequence '\\L'\n",
      "  df_zoho_form_final_version_drop_col.to_csv('C:\\Language_Projects\\Language_Projects\\Python\\Flagship_1\\\\automotive_diagnostic_data_analysis\\data\\data_cleaned\\df_zoho_form_cleaned.csv', index=False)\n"
     ]
    }
   ],
   "source": [
    "# Save the cleaned dataframe to a .csv file\n",
    "df_zoho_form_final_version_drop_col.to_csv('C:\\Language_Projects\\Language_Projects\\Python\\Flagship_1\\automotive_diagnostic_data_cleaning\\data_cleaned\\df_zoho_form_cleaned.csv', index=False)"
   ]
  }
 ],
 "metadata": {
  "kernelspec": {
   "display_name": "venv",
   "language": "python",
   "name": "python3"
  },
  "language_info": {
   "codemirror_mode": {
    "name": "ipython",
    "version": 3
   },
   "file_extension": ".py",
   "mimetype": "text/x-python",
   "name": "python",
   "nbconvert_exporter": "python",
   "pygments_lexer": "ipython3",
   "version": "3.12.2"
  }
 },
 "nbformat": 4,
 "nbformat_minor": 2
}
